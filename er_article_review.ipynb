{
 "cells": [
  {
   "cell_type": "markdown",
   "metadata": {},
   "source": [
    "### Data"
   ]
  },
  {
   "cell_type": "markdown",
   "metadata": {},
   "source": [
    "- [Объем суммарного фактического потребления электрической энергии в субъекте РФ](https://www.atsenergo.ru/results/market/fact_region)\n",
    "\n",
    "- [Отчет о торгах по субъектам РФ ЕЭС](https://www.atsenergo.ru/nreport?rname=trade_region_spub)\n",
    "\n",
    "- [Коэффициент сезонности (публикация)](https://www.atsenergo.ru/nreport?rname=season_koeff)\n",
    "\n",
    "\n",
    "\n",
    "- [Отчёт о равновесных ценах в наиболее крупных узлах расчётной модели](https://www.atsenergo.ru/nreport?rname=big_nodes_prices_pub)\n",
    "\n",
    "- [Отчет о параметрах спроса и предложения](https://www.atsenergo.ru/nreport?rname=curve_demand_offer)\n",
    "\n",
    "- [Отчет об объемах планового почасового производства по типам станций](https://www.atsenergo.ru/nreport?rname=trade_zone&rdate=20190613)\n",
    "\n",
    "-  [Отчет об объемах планового почасового потребления электрической энергии по типам потребителей](https://www.atsenergo.ru/nreport?rname=ppp_consumer_type&rdate=20190717)\n",
    "\n",
    "-  [Отчёт о перетоках мощности по контролируемым сечениям](https://www.atsenergo.ru/nreport?access=public&region=eur&rname=overflow_sechen_all_pub&rdate=20191204)"
   ]
  },
  {
   "cell_type": "markdown",
   "metadata": {},
   "source": [
    "### Prices \n",
    "\n",
    "- [Probabilistic Electricity Price Forecasting with Bayesian Stochastic Volatility Models](https://www.researchgate.net/publication/331065098_Probabilistic_Electricity_Price_Forecasting_with_Bayesian_Stochastic_Volatility_Models) Bayes, Exogenous varibles, New, Cited 2, Scopus 95 => 5\n",
    "- Lucia and Schwartz (2002) [Electricity Prices and Power Derivatives: Evidence from the Nordic Power Exchange](https://link.springer.com/content/pdf/10.1023%2FA%3A1013846631785.pdf) => Deterministic Component, Data, Implications on further derivative pricing, Cited 1000, Scopus 27 => 5\n",
    "- Cartea and Figueroa (2005)  [Pricing in Electricity Markets: A Mean Reverting Jump Diffusion Model with Seasonality](https://www.researchgate.net/publication/24071715_Pricing_in_Electricity_Markets_A_Mean_Reverting_Jump_Diffusion_Model_with_Seasonality) => Data, Seasonality, Cited 400, Scopus 38 = 4 \n",
    "- [Modeling electricity spot prices: combining mean reversion, spikes, and stochastic volatility](https://www.tandfonline.com/doi/abs/10.1080/1351847X.2012.716775?scroll=top&needAccess=true&journalCode=rejf20) => SV, Data, Cited 20, Scopus 69  => 4\n",
    "- [Levy process-driven mean-reverting electricity price model: the marginal distribution analysis](https://www.sciencedirect.com/science/article/pii/S016792360400123X) => Correlation and heavy tailed dist, Cited 55, No Scopus  => 2-1=1\n",
    "-  [A regime-switching stochastic volatility model for forecasting electricity prices](https://econ.au.dk/fileadmin/site_files/filer_oekonomi/Working_Papers/CREATES/2017/rp17_03.pdf) => Bayes, Data, fundamental factors, not cited, not journal  = 3-2 = 1 \n",
    "    -  showing the importance of considering fundamental pricedrivers in modeling, \n",
    "    - developing new techniques for probabilistic (i.e.  intervalor density) forecasting of electricity prices, \n",
    "    - introducing an universal technique for model comparison  \n",
    "    - proposing new regime-switching stochastic volatility model with three regimes (negative jump,  normal price,  positive jump (spike)) where the transition matrix depends on explanatory variables. Bayesian inference is explored in order to obtain predictive densities. \n",
    "    - The main focus of the paper ison short-time density forecasting in Nord Pool intraday market. We show that the proposed model outperforms several benchmark models at this task.\n",
    "- [Practical stochastic modelling of electricity prices ](https://hal-enac.archives-ouvertes.fr/hal-01021603/document) Data, GARCH, Not cited, Scopus NA => 2-1-0=1\n",
    "\n",
    "- [Механизм ценообразования на оптовом рынке электроэнергии](https://studme.org/53078/marketing/mehanizm_tsenoobrazovaniya_optovom_rynke_elektroenergii)"
   ]
  },
  {
   "cell_type": "markdown",
   "metadata": {},
   "source": [
    "### Risks \n",
    "\n",
    "- [Energy risk management and value at risk modeling](https://www.researchgate.net/publication/222400423_Energy_risk_management_and_value_at_risk_modeling) =>   - Short, GARCH, VaR estimation example,  cited 150, Scopus 95 =>  4 \n",
    "- [Estimating  Value-at-Risk  in  Electricity  Market  Based  on  Grey  Extreme  Value Theory](https://pdfs.semanticscholar.org/f713/1370453cd9f82ca376692e94f5b17f985310.pdf) => data, filtering, grey, no citation, bad scopus 10 = 3-1-0 = 2\n",
    "- [Modelling risk for electric power markets](http://www.scielo.org.co/scielo.php?script=sci_arttext&pid=S0121-50512012000200005) => garch, frp, Old cited 20, Scopus NA => 2-0-1=1\n",
    "- [Pricing and Risk Management in Competitive Electricity Markets](http://citeseerx.ist.psu.edu/viewdoc/download?doi=10.1.1.515.4685&rep=rep1&type=pdf) => No cited, No scopus => 0\n",
    "-  [Использование инструментов финансового рынка для управления рисками в электроэнергетике](https://cyberleninka.ru/article/v/ispolzovanie-instrumentov-finansovogo-rynka-dlya-upravleniya-riskami-v-elektroenergetike) => 0"
   ]
  },
  {
   "cell_type": "code",
   "execution_count": null,
   "metadata": {},
   "outputs": [],
   "source": []
  }
 ],
 "metadata": {
  "hide_input": false,
  "kernelspec": {
   "display_name": "Python 3",
   "language": "python",
   "name": "python3"
  },
  "language_info": {
   "codemirror_mode": {
    "name": "ipython",
    "version": 3
   },
   "file_extension": ".py",
   "mimetype": "text/x-python",
   "name": "python",
   "nbconvert_exporter": "python",
   "pygments_lexer": "ipython3",
   "version": "3.7.3"
  },
  "latex_envs": {
   "LaTeX_envs_menu_present": true,
   "autoclose": true,
   "autocomplete": true,
   "bibliofile": "biblio.bib",
   "cite_by": "apalike",
   "current_citInitial": 1,
   "eqLabelWithNumbers": true,
   "eqNumInitial": 1,
   "hotkeys": {
    "equation": "Ctrl-E",
    "itemize": "Ctrl-I"
   },
   "labels_anchors": false,
   "latex_user_defs": false,
   "report_style_numbering": false,
   "user_envs_cfg": false
  },
  "toc": {
   "base_numbering": 1,
   "nav_menu": {},
   "number_sections": true,
   "sideBar": true,
   "skip_h1_title": false,
   "title_cell": "Table of Contents",
   "title_sidebar": "Contents",
   "toc_cell": false,
   "toc_position": {},
   "toc_section_display": true,
   "toc_window_display": false
  },
  "varInspector": {
   "cols": {
    "lenName": 16,
    "lenType": 16,
    "lenVar": 40
   },
   "kernels_config": {
    "python": {
     "delete_cmd_postfix": "",
     "delete_cmd_prefix": "del ",
     "library": "var_list.py",
     "varRefreshCmd": "print(var_dic_list())"
    },
    "r": {
     "delete_cmd_postfix": ") ",
     "delete_cmd_prefix": "rm(",
     "library": "var_list.r",
     "varRefreshCmd": "cat(var_dic_list()) "
    }
   },
   "types_to_exclude": [
    "module",
    "function",
    "builtin_function_or_method",
    "instance",
    "_Feature"
   ],
   "window_display": false
  }
 },
 "nbformat": 4,
 "nbformat_minor": 2
}
