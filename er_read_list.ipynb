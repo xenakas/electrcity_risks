{
 "cells": [
  {
   "cell_type": "markdown",
   "metadata": {},
   "source": [
    "### Intro. Electricity market specifics"
   ]
  },
  {
   "cell_type": "markdown",
   "metadata": {},
   "source": [
    "Specialties:\n",
    "\n",
    "- electricity trading deregulation (using spot and derivative contracts)\n",
    "- capacity market (buy guarantee that electricity will be available), day-ahead (booked in advance) and intraday market (smaller amounts but higher prices), frequency control (excess power can be used for frequency control)\n"
   ]
  },
  {
   "cell_type": "markdown",
   "metadata": {},
   "source": [
    "Forecasting demand:\n",
    "\n",
    "Electricity demand depends on:\n",
    "\n",
    "- weather: temperature, wind speed, etc.\n",
    "- intensity of business and everyday activities\n",
    "- has three levels of seasonality and abrupt short-loved January unanticipated price spikes\n",
    "\n",
    "- Short-term forecasting demand (up to 1 week) is based on\n",
    "meteorological forecasts and on\n",
    "historical consumption data.\n",
    "\n",
    "- Seasonal forecasts are produced\n",
    "with reference meteorological data.\n",
    "Historical simulations may be used\n",
    "for scenario analysis.\n",
    "\n",
    "- Long-term consumption scenarios are produced by RTE based on plausible scenarios of economic activity in different sectors and the evolution of consumption patterns."
   ]
  },
  {
   "cell_type": "markdown",
   "metadata": {},
   "source": [
    "Demand can be described by a stochastic process\n",
    "\n",
    "$$D_t = \\bar{D_t} + X_t$$\n",
    "\n",
    "$$dX_t = (\\mu - \\lambda X_t) dt +\\sigma dW_t$$\n",
    "\n",
    "where $\\bar{D_t}$ is a seasonal component and X_t is stationary stochastic part\n",
    "\n",
    "Electricity supply depends on \n",
    "\n",
    "- weather: especially for renewables (wind, solar)\n",
    "\n",
    "\n",
    "- deployment of Smart Grid technologies\n",
    "- impact of renewables"
   ]
  },
  {
   "cell_type": "markdown",
   "metadata": {},
   "source": [
    "### Russian electricity market "
   ]
  },
  {
   "cell_type": "markdown",
   "metadata": {},
   "source": [
    "The transport (high voltage grid) is a natural monopoly and usually managed\n",
    "by Transportation Service Operator (TSO), a state company (in Russia,\n",
    "Федеральная Сетевая Компания, in France RTE), who is also responsible\n",
    "for real time operation and equilibrium of the energy system."
   ]
  },
  {
   "cell_type": "markdown",
   "metadata": {},
   "source": [
    "- [ ] [МИНЭНЕРГО Основные характеристики российской электроэнергетики](https://minenergo.gov.ru/node/532)\n",
    "- [x] [EY Обзор электро-энергетическойотрасли России](https://www.ey.com/Publication/vwLUAssets/EY-power-market-russia-2018/$File/EY-power-market-russia-2018.pdf)\n",
    "- [x] [Минпромторг: Энергетическое машиностроение, электротехническая и кабельная промышленности](http://minpromtorg.gov.ru/common/upload/docVersions/5ad48d069014f/actual/Minpromtorg_press2.pdf)\n"
   ]
  },
  {
   "cell_type": "markdown",
   "metadata": {},
   "source": [
    "Тариф для конечного потребителя на электроэнергию и мощность формируется на основе пяти составляющих:\n",
    "\n",
    "- цена электроэнергии;\n",
    "- цена мощности;\n",
    "- цена передачи по сети с дифференциацией по уровню напряжения;\n",
    "- инфраструктурные платежи: плата за услуги СО ЕЭС, АТС, ЦФР;\n",
    "- сбытовая надбавка.\n"
   ]
  },
  {
   "cell_type": "markdown",
   "metadata": {},
   "source": [
    "Сдерживающие факторы \n",
    "\n",
    "1. Высокая степеньизношенностиосновных фондов\n",
    "2. Перекрестное субсидирование\n",
    "3. Проблема неплатежей\n",
    "4. Вынужденная генерация\n",
    "5. Высокие потери тепла\n"
   ]
  },
  {
   "cell_type": "markdown",
   "metadata": {},
   "source": [
    "- Генерация (Конкурентный сегмент)\n",
    "    - Государственные - ПАО «РусГидро», ООО «Газпромэнергохолдинг», ПАО «Интер РАО»,АО «Концерн Росэнергоатом»\n",
    "    - Частные (РФ) - АО «ЕвроСибЭнерго», ПАО «Т Плюс»и другие\n",
    "    - Частные (иностр.) ПАО «Юнипро», ПАО «Фортум»*,ПАО «Энел Россия»\n",
    "    \n",
    "- Передача и распределение (регулируемый сегмент)\n",
    "    - Группа российских сетевых компаний ПАО \"Россети\" - Федеральная сетевая компания, Межрегиональные распределительные сетевые компании, Региональные распределительные сети\n",
    "    - Частные - прочие - АО «БЭСК», ПАО «СУЭНКО» и другие\n",
    "    "
   ]
  },
  {
   "cell_type": "markdown",
   "metadata": {},
   "source": [
    "\n",
    "### Models of measuring electricity risk \n",
    "\n",
    "Multi-agent models (Nas-Cournot framework, supply function equilibrium, strategic production-cost, etc)\n",
    "\n",
    "- [ ] [Forecasting the Mean and the Variance of Electricity Prices in Deregulated Markets](https://ieeexplore.ieee.org/abstract/document/4414354)\n",
    "    - two sources of uncertainty: the availability of generation units and demand\n",
    "    - as the number of firms in the market decreases the expected values of prices increase by significant amount\n",
    "    - accurate temperature forecast can reduce the prediction error of electricity price forecast \n",
    "\n",
    "\n",
    "Supply function equlibrium approach requires a set of differential equations to be solved => limitations concerning tracability, demand is usually agregated into blocks  to speed up computations, doesnt't account for extreme values \n",
    "      \n",
    "      \n",
    "Strategic PCM: each agent maximizes its profits by bidding strategies and knows only its costs \n",
    "\n",
    "\n",
    "Agent-based approach (simulation models to analyse market power)\n",
    "\n",
    "\n",
    "\n",
    "Funtamental (parameter rich, parsimonious structural) \n",
    "\n"
   ]
  },
  {
   "cell_type": "markdown",
   "metadata": {},
   "source": [
    "### Math of electricity prices\n",
    "\n",
    "Unlike stock price process which are hardly predictable, electricity prices are\n",
    "related to a multitude of observable factors: consumption, fuel prices, plant\n",
    "outages etc.\n",
    "\n",
    "\n",
    "Jump-diffusion process\n",
    "\n",
    "- [x] [Merton’s Jump-Diffusion Model](https://www.csie.ntu.edu.tw/~lyuu/finance1/2015/20150513.pdf) \n",
    "\n",
    "A sum of Ornstein-Uhlenbeck processes\n",
    "(may be used to model price spikes)\n",
    "\n"
   ]
  },
  {
   "cell_type": "markdown",
   "metadata": {},
   "source": [
    "#### Lucia and Schwartz (2002)\n",
    "\n",
    "Deterministic seasonality:\n",
    "\n",
    "$$\\ln S_t = g(t) +Y_t$$\n",
    "\n",
    "Mean-reverting component\n",
    "\n",
    "$$dY_t = -\\alpha Y_t dt + \\sigma(t) dW_t$$"
   ]
  },
  {
   "cell_type": "markdown",
   "metadata": {},
   "source": [
    "#### Cartea and Figueroa (2005) model\n",
    "\n",
    "\n",
    "Deterministic seasonality:\n",
    "\n",
    "$$\\ln S_t = g(t) +Y_t$$\n",
    "\n",
    "$J$ - log-npormal proportional jump size, $q$ - Poisson process of jump times\n",
    "\n",
    "$$dY_t = -\\alpha Y_t dt + \\sigma(t) dW_t + J dq_t$$\n",
    "\n",
    "In this model, forward prices can be computed explicitly under deterministic\n",
    "market price of risk assumption."
   ]
  },
  {
   "cell_type": "markdown",
   "metadata": {},
   "source": [
    "#### Stack curve model \n",
    "\n",
    "The electricity demand $D_t$ can be satisfied with $n$ different technologies;\n",
    "\n",
    "Each technology has available capacity $C_t^i$ and fuel cost $h_i S_t^i$, where $S^i$ is the fuel price and $h_i$ is the heat rate;\n",
    "\n",
    "The spot price depends on the marginal fuel cost and the reserve margin:\n",
    "$$P_t = g (R_t )  \\hat{P}_t,  R_t = \\sum^n_{i=1} C_t^i - D_t$$\n",
    "\n",
    "where $g$ is the scarcity function:\n",
    "$$g (x) = \\min{(\\gamma/x^\\nu, M)1_{x>0}}  + M1_{x\\leq 0}$$\n"
   ]
  },
  {
   "cell_type": "markdown",
   "metadata": {},
   "source": [
    "###  Econometrics "
   ]
  },
  {
   "cell_type": "markdown",
   "metadata": {},
   "source": [
    "#### Modelling electricity risks \n",
    "\n",
    "GARCH-type, SV\n",
    "\n",
    "Markov regime-switching\n",
    "- [ ] [A regime-switching stochastic volatility model for forecasting electricity prices](https://econ.au.dk/fileadmin/site_files/filer_oekonomi/Working_Papers/CREATES/2017/rp17_03.pdf)\n",
    "\n",
    "regression models, AR, ARX, TAR, combination of ARIMA and discrete Markov process\n",
    "\n",
    "\n",
    "similar day, exponential smoothing\n",
    "\n",
    "feed-forward NN, recurrent NN, fuzzy NN, SVM "
   ]
  },
  {
   "cell_type": "markdown",
   "metadata": {},
   "source": [
    "#### Filling gaps\n",
    "\n",
    "Temporal Disaggregarion\n",
    "\n",
    "- [r temdisagg package](https://cran.r-project.org/web/packages/tempdisagg/index.html)\n",
    "\n",
    "\n",
    "Grey\n",
    "\n",
    "- [ ] [Missing Data Imputation Based on Grey System Theory](https://www.researchgate.net/publication/291098549_Missing_Data_Imputation_Based_on_Grey_System_Theory)\n",
    "- [ ] [A Survey of Selected Grey Forecasting Models with Application to Medical Tourism Forecasting](https://www.researchgate.net/publication/332634968_A_Survey_of_Selected_Grey_Forecasting_Models_with_Application_to_Medical_Tourism_Forecasting)\n",
    "- [ ] [Applied Hybrid Grey Model to Forecast Seasonal Time Series](http://citeseerx.ist.psu.edu/viewdoc/download?doi=10.1.1.1020.8267&rep=rep1&type=pdf)\n",
    "- [ ] [Clustering-Based Multiple Imputation via Gray Relational Analysis for Missing Data and Its Application to Aerospace Field](https://www.hindawi.com/journals/tswj/2013/720392/)\n",
    "    - [This algorithm contain three techniques :\n",
    "1-fuzzy c-mean clustering, 2-Grey relational theory, 3-Entropy multiple imputation](https://stats.stackexchange.com/questions/189987/using-entropy-to-imputing-missing-value-based-on-grey-relational-analysis-and-cl)\n",
    "\n",
    "State Space models \n",
    "\n",
    "- [r midasr package](http://mpiktas.github.io/midasr/)\n",
    "    - [State Space Models and MIDAS Regressions](https://econpapers.repec.org/article/tafemetrv/v_3a32_3ay_3a2013_3ai_3a7_3ap_3a779-813.htm)\n",
    "- Kalman-filter approach\n",
    "    - [Dynamic Regressions with Variables Observed at Different Frequencies](https://pdfs.semanticscholar.org/f73c/41c55f2d3043cc3ca7141c4cb084486e8d76.pdf)"
   ]
  },
  {
   "cell_type": "markdown",
   "metadata": {},
   "source": [
    "Multiple seasonality\n",
    "\n",
    "- stl and str packages\n",
    "- [ ] [oxtexts: Complex seasonlaity](https://otexts.com/fpp2/complexseasonality.html)"
   ]
  },
  {
   "cell_type": "markdown",
   "metadata": {},
   "source": [
    "### The forward market, option pricing\n",
    "\n",
    "Futures prices are much less volatile\n",
    "than spot prices, especially for longer delivery periods. \n",
    "\n",
    "Due to non-storability of energy, futures\n",
    "prices are not correlated with spot prices\n",
    "and one cannot speak of convergence of\n",
    "futures prices to spot prices.\n",
    "\n",
    "Futures for winter delivery are more\n",
    "expensive."
   ]
  },
  {
   "cell_type": "markdown",
   "metadata": {},
   "source": [
    "При моделировании цены фьючерсного контракта обратный арбитраж принесет:\n",
    "\n",
    "$$F_t(T)  = e^{r(T-t)}S_t$$\n",
    "\n",
    "Если существуют издержки хранения $c$:\n",
    "\n",
    "$$F_t(T)  = e^{(r+с)(T-t)}S_t$$\n",
    "\n",
    "Если по данному активу невозможно открыть короткую позицию:\n",
    "\n",
    "$$F_t(T)  = e^{(r+с-y)(T-t)}S_t$$\n",
    "\n",
    "где $y \\geq 0 $ - \"премия за удобство\"\n",
    "\n",
    "Поскольку в больших количествах электричество хранить экономически невыгодно необходимо моделировать спот-цены и цены на фьючерсы параллельно "
   ]
  },
  {
   "cell_type": "markdown",
   "metadata": {},
   "source": [
    "Computing forward prices:\n",
    "\n",
    "The forward price can be computed as risk-neutral expectation \n",
    "\n",
    "$$f_t(T) = E[S_T|\\mathcal{F}_t]$$\n",
    "\n",
    "Under risk-neutral probability the dynamics of spot price may be different \n",
    "\n",
    "$$dY_t = \\alpha (\\lambda - Y_t)dt +\\sigma dW_t^*$$"
   ]
  }
 ],
 "metadata": {
  "hide_input": false,
  "kernelspec": {
   "display_name": "Python 3",
   "language": "python",
   "name": "python3"
  },
  "language_info": {
   "codemirror_mode": {
    "name": "ipython",
    "version": 3
   },
   "file_extension": ".py",
   "mimetype": "text/x-python",
   "name": "python",
   "nbconvert_exporter": "python",
   "pygments_lexer": "ipython3",
   "version": "3.7.3"
  },
  "latex_envs": {
   "LaTeX_envs_menu_present": true,
   "autoclose": true,
   "autocomplete": true,
   "bibliofile": "biblio.bib",
   "cite_by": "apalike",
   "current_citInitial": 1,
   "eqLabelWithNumbers": true,
   "eqNumInitial": 1,
   "hotkeys": {
    "equation": "Ctrl-E",
    "itemize": "Ctrl-I"
   },
   "labels_anchors": false,
   "latex_user_defs": false,
   "report_style_numbering": false,
   "user_envs_cfg": false
  },
  "toc": {
   "base_numbering": 1,
   "nav_menu": {},
   "number_sections": true,
   "sideBar": true,
   "skip_h1_title": false,
   "title_cell": "Table of Contents",
   "title_sidebar": "Contents",
   "toc_cell": false,
   "toc_position": {},
   "toc_section_display": true,
   "toc_window_display": false
  },
  "varInspector": {
   "cols": {
    "lenName": 16,
    "lenType": 16,
    "lenVar": 40
   },
   "kernels_config": {
    "python": {
     "delete_cmd_postfix": "",
     "delete_cmd_prefix": "del ",
     "library": "var_list.py",
     "varRefreshCmd": "print(var_dic_list())"
    },
    "r": {
     "delete_cmd_postfix": ") ",
     "delete_cmd_prefix": "rm(",
     "library": "var_list.r",
     "varRefreshCmd": "cat(var_dic_list()) "
    }
   },
   "types_to_exclude": [
    "module",
    "function",
    "builtin_function_or_method",
    "instance",
    "_Feature"
   ],
   "window_display": false
  }
 },
 "nbformat": 4,
 "nbformat_minor": 2
}
