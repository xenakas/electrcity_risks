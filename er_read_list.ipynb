{
 "cells": [
  {
   "cell_type": "markdown",
   "metadata": {},
   "source": [
    "\n",
    "### Intro. Electricity market specifics"
   ]
  },
  {
   "cell_type": "markdown",
   "metadata": {},
   "source": [
    "- [ ] [Classification of electricity market models worldwide](https://ieeexplore.ieee.org/abstract/document/1532720)\n",
    "\n",
    "\n",
    "Specialties:\n",
    "\n",
    "- electricity trading deregulation (using spot and derivative contracts)\n",
    "- capacity market (buy guarantee that electricity will be available), day-ahead (booked in advance) and intraday market (smaller amounts but higher prices), frequency control (excess power can be used for frequency control)\n"
   ]
  },
  {
   "cell_type": "markdown",
   "metadata": {},
   "source": [
    "Forecasting demand:\n",
    "\n",
    "Electricity demand depends on:\n",
    "\n",
    "- weather: temperature, wind speed, etc.\n",
    "     - or unexpected weather patterns.\n",
    "- supply and demand imbalances which originate from the business cycle\n",
    "- political events (energy products) and domestic policy\n",
    "- intensity of business and everyday activities\n",
    "- has three levels of seasonality and abrupt short-loved January unanticipated price spikes\n",
    "\n",
    "- Short-term forecasting demand (up to 1 week) is based on\n",
    "meteorological forecasts and on\n",
    "historical consumption data.\n",
    "\n",
    "- Seasonal forecasts are produced\n",
    "with reference meteorological data.\n",
    "Historical simulations may be used\n",
    "for scenario analysis.\n",
    "\n",
    "- Long-term consumption scenarios are produced by RTE based on plausible scenarios of economic activity in different sectors and the evolution of consumption patterns."
   ]
  },
  {
   "cell_type": "markdown",
   "metadata": {},
   "source": [
    "Demand can be described by a stochastic process\n",
    "\n",
    "- [ ] [Fine structure of the price–demand relationship in the electricity market: Multi-scale correlation analysis](https://www.sciencedirect.com/science/article/pii/S0140988315002200)\n",
    "\n",
    "Electricity supply depends on \n",
    "\n",
    "- weather: especially for renewables (wind, solar)\n",
    "\n",
    "\n",
    "- deployment of Smart Grid technologies\n",
    "- impact of renewables"
   ]
  },
  {
   "cell_type": "markdown",
   "metadata": {},
   "source": [
    "#### UCP\n",
    "\n",
    "- [ ] [Incorporating Fuel Constraints and Electricity Spot Prices into the Stochastic Unit Commitment Problem](https://pubsonline.informs.org/doi/abs/10.1287/opre.48.2.268.12379)\n",
    "- [ ] [Stochastic Unit Commitment in Isolated Systems With Renewable Penetration Under CVaR Assessment](https://ieeexplore.ieee.org/abstract/document/7226864)\n",
    "- [ ] [Risk-Constrained Bidding Strategy With Stochastic Unit Commitment](https://ieeexplore.ieee.org/abstract/document/4077143)\n",
    "- [ ] [Stochastic Unit Commitment With Uncertain Demand Response](https://ieeexplore.ieee.org/abstract/document/6236283)\n",
    "- [ ] [Two-stage stochastic unit commitment model including non-generation resources with conditional value-at-risk constraints](https://www.sciencedirect.com/science/article/abs/pii/S0378779614002648)\n"
   ]
  },
  {
   "cell_type": "markdown",
   "metadata": {},
   "source": [
    "### Russian electricity market "
   ]
  },
  {
   "cell_type": "markdown",
   "metadata": {},
   "source": [
    "- АТС (РСВ, БР)\n",
    "- СО ЕЭС (Рынок мощностей)\n",
    "    - http://monitor.so-ups.ru/\n",
    "- Россести - ФСК ЕЭС (Федеральная сетевая компания)\n",
    "- Минэенерго\n",
    "- Совет рынка\n",
    "    - https://www.np-sr.ru/ru\n",
    "- Русэнергосбыт\n"
   ]
  },
  {
   "cell_type": "markdown",
   "metadata": {},
   "source": [
    "The transport (high voltage grid) is a natural monopoly and usually managed\n",
    "by Transportation Service Operator (TSO), a state company (in Russia,\n",
    "Федеральная Сетевая Компания, in France RTE), who is also responsible\n",
    "for real time operation and equilibrium of the energy system."
   ]
  },
  {
   "cell_type": "markdown",
   "metadata": {},
   "source": [
    "- [ ] [МИНЭНЕРГО Основные характеристики российской электроэнергетики](https://minenergo.gov.ru/node/532)\n",
    "- [x] [EY Обзор электро-энергетическойотрасли России](https://www.ey.com/Publication/vwLUAssets/EY-power-market-russia-2018/$File/EY-power-market-russia-2018.pdf)\n",
    "- [ ] [PwC Преобразования в электроэнергетике: собственный путь](https://www.pwc.ru/ru/power-and-utilities/assets/energy-transformation_rus.pdf) \n",
    "- [ ] [Энерго 24 Карта тарифов на электроэнергию ](https://energo-24.ru/tariffs/electro/2017/12263.html)\n",
    "- [x] [Минпромторг: Энергетическое машиностроение, электротехническая и кабельная промышленности](http://minpromtorg.gov.ru/common/upload/docVersions/5ad48d069014f/actual/Minpromtorg_press2.pdf)\n",
    "- [ ] ДПМ => ДПМ ВИЭ  и  Программа модернизации тепловых электростанций\n",
    "    - [Энергетическое десятилетие](https://www.kommersant.ru/doc/3758063)\n",
    "- [ ]  Реформа РАО «ЕЭС России»\n",
    "    - [Реализация проектов ДПМ](https://minenergo.gov.ru/node/561)\n",
    "    - Механизм строительства и модернизации электрогенерирующих мощностей по договорам о поставке мощности (ДПМ) стал частью реформы РАО ЕЭС в конце 2000-х годов. Он использовался для привлечения в отрасль негосударственных инвестиций на рыночных, взаимовыгодных для банков и генерирующих компаний условиях\n",
    "    - [РАО «ЕЭС России»](https://ru.wikipedia.org/wiki/%D0%A0%D0%90%D0%9E_%C2%AB%D0%95%D0%AD%D0%A1_%D0%A0%D0%BE%D1%81%D1%81%D0%B8%D0%B8%C2%BB)\n",
    "    - [Чем закончилась реформа РАО ЕЭС](https://www.vedomosti.ru/opinion/articles/2018/06/29/774143-reforma-rao-ees)\n",
    "- [ ] [НП Совет - Оптовый рынок электрической энергии и мощности](https://www.np-sr.ru/ru/market/wholesale/index.htm)\n",
    "- [ ] [Русэнергосбыт - Оптовый рынок](https://www.ruses.ru/energy-market/wholesale) \n",
    "\n",
    "Docs:\n",
    "\n",
    "- [ ] [Приказ Минэнерго России от 28.02.18 № 121 \"Об утверждении схемы и программы развития Единой энергетической системы России на 2018 - 2024 годы](https://minenergo.gov.ru/node/11323)\n",
    "- [ ] [План 2017: Целевая модель системы перспективного планирования в электроэнергетике](https://minenergo.gov.ru/node/7196)\n",
    "- [ ] [2013: Об утверждении Стратегии развития электросетевого комплекса России ](http://government.ru/docs/1220/)\n",
    "    - [2017: О внесении изменений в Стратегию развития электросетевого комплекса России](http://government.ru/docs/30360/)\n",
    "- [ ] [2015: О мерах по стимулированию использования возобновляемых источников энергии на оптовом рынке электрической энергии и мощности\n",
    "](http://government.ru/docs/20510/)\n",
    "- [ ] [Минэнерго - Государственная программа Российской Федерации «Развитие энергетики»](https://minenergo.gov.ru/node/323)\n",
    "- [ ] [Доклады и презентации Министра](https://minenergo.gov.ru/press/doklady)"
   ]
  },
  {
   "cell_type": "markdown",
   "metadata": {},
   "source": [
    "Тариф для конечного потребителя на электроэнергию и мощность формируется на основе пяти составляющих:\n",
    "\n",
    "- цена электроэнергии;\n",
    "- цена мощности;\n",
    "- цена передачи по сети с дифференциацией по уровню напряжения;\n",
    "- инфраструктурные платежи: плата за услуги СО ЕЭС, АТС, ЦФР;\n",
    "- сбытовая надбавка.\n"
   ]
  },
  {
   "cell_type": "markdown",
   "metadata": {},
   "source": [
    "Сдерживающие факторы \n",
    "\n",
    "1. Высокая степеньизношенностиосновных фондов\n",
    "2. Перекрестное субсидирование\n",
    "3. Проблема неплатежей\n",
    "4. Вынужденная генерация\n",
    "5. Высокие потери тепла\n"
   ]
  },
  {
   "cell_type": "markdown",
   "metadata": {},
   "source": [
    "- [ ] [Крупнейшие компании электроэнергетики](https://minenergo.gov.ru/node/4846)\n",
    "- Генерация (Конкурентный сегмент)\n",
    "    - Государственные - ПАО «РусГидро», ООО «Газпромэнергохолдинг», ПАО «Интер РАО»,АО «Концерн Росэнергоатом»\n",
    "    - Частные (РФ) - АО «ЕвроСибЭнерго», ПАО «Т Плюс»и другие\n",
    "    - Частные (иностр.) ПАО «Юнипро», ПАО «Фортум»*,ПАО «Энел Россия»\n",
    "- Передача и распределение (регулируемый сегмент)\n",
    "    - Группа российских сетевых компаний ПАО \"Россети\" - Федеральная сетевая компания, Межрегиональные распределительные сетевые компании, Региональные распределительные сети\n",
    "    - Частные - прочие - АО «БЭСК», ПАО «СУЭНКО» и другие\n",
    "\n"
   ]
  },
  {
   "cell_type": "markdown",
   "metadata": {},
   "source": [
    "\n",
    "\n",
    "- [ ] [Управление рисками и безопасностью](http://www.isa.ru/proceedings/images/documents/2011-61-1/orlovskii.pdf)\n",
    "- [x] [Как устроен рынок электроэнергии в России](https://bcs-express.ru/novosti-i-analitika/kak-ustroen-rynok-elektroenergii-v-rossii)\n",
    "    - Тикеры генераторов, сбытовых компаний, сетевых компаний\n",
    "- [ ] [Организация функционирования конкурентного рынка электрической энергии и мощности в современных условиях](https://cyberleninka.ru/article/n/organizatsiya-funktsionirovaniya-konkurentnogo-rynka-elektricheskoy-energii-i-moschnosti-v-sovremennyh-usloviyah)\n",
    "- [ ] [Риски энергетических  компаний](https://cyberleninka.ru/article/v/riski-energeticheskih-kompaniy)\n",
    "- [ ] [Do energy prices converge across Russian regions?](https://www.sciencedirect.com/science/article/pii/S0264999312001447)\n",
    "- [ ] pwc 2015: [Возрождая российскуюэлектроэнергетику](https://www.pwc.ru/ru/power-and-utilities/publications/assets/reviving-the-russian-power-industry_rus.pdf)\n",
    "- [ ] pwc 2017: [Преобразования в сфере электроэнергетики](https://www.pwc.ru/ru/publications/reimagining-the-electric-utility-final-june-2017/reimagining-the-electric-utility-final-june-2017-ru.pdf)"
   ]
  },
  {
   "cell_type": "markdown",
   "metadata": {},
   "source": [
    "### Electricity prices\n",
    "\n",
    "Unlike stock price process which are hardly predictable, electricity prices are\n",
    "related to a multitude of observable factors: consumption, fuel prices, plant\n",
    "outages etc.\n",
    "\n",
    "\n",
    "Jump-diffusion process\n",
    "\n",
    "- [x] [Merton’s Jump-Diffusion Model](https://www.csie.ntu.edu.tw/~lyuu/finance1/2015/20150513.pdf) \n",
    "\n",
    "A sum of Ornstein-Uhlenbeck processes\n",
    "(may be used to model price spikes)\n",
    "\n"
   ]
  },
  {
   "cell_type": "markdown",
   "metadata": {},
   "source": [
    "#### Math  Models "
   ]
  },
  {
   "cell_type": "markdown",
   "metadata": {},
   "source": [
    "- [ ] Lucia and Schwartz (2002) [Electricity Prices and Power Derivatives: Evidence from the Nordic Power Exchange](https://link.springer.com/content/pdf/10.1023%2FA%3A1013846631785.pdf)\n",
    "\n",
    "\n",
    "Levy\n",
    "- [ ] [Modelling energy spot prices by volatility modulated Levy-driven Volterra processes](https://arxiv.org/pdf/1307.6332.pdf)\n",
    "    - This paper introduces the class of volatility modulated Levy-driven Volterra (VMLV) processes and their important subclass of Levy semi-stationary (LSS) processes as a new framework for modelling energy spot prices.\n",
    "- [ ] [Stochastic Modelling of Energy SpotPrices by LSS Processes](https://link.springer.com/chapter/10.1007/978-3-319-94129-5_10)\n",
    "\n",
    "mean-reverting\n",
    "\n",
    "- [ ] [Levy process-driven mean-reverting electricity price model: the marginal distribution analysis](https://www.sciencedirect.com/science/article/pii/S016792360400123X)\n",
    "- [ ] [Forecasting Electricity Prices](https://pdfs.semanticscholar.org/7461/d5a6792cc365563db917cb43be45fa6cf134.pdf)\n",
    "    - Random-walk, Mean-reversion with jumps \n",
    "- [ ] [Stochastic price modeling of high volatility, mean-reverting, spike-prone commodities: The Australian wholesale spot electricity market](https://www.sciencedirect.com/science/article/pii/S0140988308000595)\n",
    "- [ ] Cartea and Figueroa (2005)  [Pricing in Electricity Markets: A Mean Reverting Jump Diffusion Model with Seasonality](https://www.researchgate.net/publication/24071715_Pricing_in_Electricity_Markets_A_Mean_Reverting_Jump_Diffusion_Model_with_Seasonality)\n",
    "- [ ] [Modeling electricity spot prices: combining mean reversion, spikes, and stochastic volatility](https://www.tandfonline.com/doi/abs/10.1080/1351847X.2012.716775?scroll=top&needAccess=true&journalCode=rejf20)\n",
    "- [ ] [Example: A primer on the pricing of electric energy options inBrazil via mean-reverting stochastic processes](https://research.birmingham.ac.uk/portal/files/61293768/Barreto_de_Oliveira_Mandal_Power_A_primer_on_the_pricing_Energy_Reports_2019.pdf)\n",
    "\n",
    "other\n",
    "\n",
    "- [ ] [A Stochastic Latent Moment Model for Electricity Price Formation](https://pubsonline.informs.org/doi/abs/10.1287/opre.2018.1733)\n",
    "- [ ] [Electricity price modeling with stochastic time change](https://www.sciencedirect.com/science/article/pii/S0140988317300117)\n"
   ]
  },
  {
   "cell_type": "markdown",
   "metadata": {},
   "source": [
    "#### Electricity Pricing\n",
    "\n",
    "Constraints\n",
    "\n",
    "- [ ] [Energy and reserve pricing in security and network-constrained electricity markets](https://ieeexplore.ieee.org/abstract/document/1425555)\n",
    "\n",
    "Renewable\n",
    "\n",
    "- [ ] [Electricity Market  Integration of Stochastic Renewable Resources:Efficiency and Risk Tradeoffs](https://dspace.mit.edu/bitstream/handle/1721.1/108958/986484783-MIT.pdf?sequence=1&isAllowed=y)\n",
    "- [ ] [Mathematical modelling of electricity market with renewable energy sources](https://www.sciencedirect.com/science/article/pii/S0960148106000954)\n",
    "\n",
    "Uncertainty\n",
    "\n",
    "- [ ] [An Integrated Market for Electricity and Natural Gas Systems with Stochastic Power Producers](https://www.sciencedirect.com/science/article/abs/pii/S037722171830571X)\n",
    "- [ ] [Stochastic factor model for electricity spot price—the case of the Nordic market](https://www.sciencedirect.com/science/article/pii/S0140988305000034)\n",
    "- [ ] [Optimal bidding in a Day-Ahead energy market for Micro Grid under uncertainty in renewable energy production](https://www.sciencedirect.com/science/article/abs/pii/S0360544216302432)\n",
    "\n",
    "\n",
    "Fundamental \n",
    "\n",
    "- [ ] [Bid-based Stochastic Model for\n",
    "Electricity Prices:\n",
    "The Impact of Fundamental Drivers on\n",
    "Market Dynamics](https://pdfs.semanticscholar.org/c831/f8085d138855aaafab79c26cd8602d4a40bb.pdf)\n",
    "- [ ] [Fundamental Insights in\n",
    "Power Futures Prices  (Prof.dr. H.G. Schmidt)](https://pdfs.semanticscholar.org/e6bf/7121a32e31ff93e455976c598cf2771b480a.pdf)\n",
    "    "
   ]
  },
  {
   "cell_type": "markdown",
   "metadata": {},
   "source": [
    "#### Economic price models\n"
   ]
  },
  {
   "cell_type": "markdown",
   "metadata": {},
   "source": [
    "Multi-agent models (Nas-Cournot framework, supply function equilibrium, strategic production-cost, etc)\n",
    "\n",
    "- [ ] [Forecasting the Mean and the Variance of Electricity Prices in Deregulated Markets](https://ieeexplore.ieee.org/abstract/document/4414354)\n",
    "    - two sources of uncertainty: the availability of generation units and demand\n",
    "    - as the number of firms in the market decreases the expected values of prices increase by significant amount\n",
    "    - accurate temperature forecast can reduce the prediction error of electricity price forecast \n",
    "\n",
    "\n",
    "Supply function equlibrium approach requires a set of differential equations to be solved => limitations concerning tracability, demand is usually agregated into blocks  to speed up computations, doesnt't account for extreme values \n",
    "   \n",
    "\n",
    "\n",
    "Strategic PCM: each agent maximizes its profits by bidding strategies and knows only its costs \n",
    "\n",
    "- [ ] [Energy bidding strategies for restructured electricity market](https://www.sciencedirect.com/science/article/pii/S0142061514005444)\n",
    "\n",
    "Agent-based approach (simulation models to analyse market power)\n",
    "\n",
    "\n",
    "\n",
    "Funtamental (parameter rich, parsimonious structural) "
   ]
  },
  {
   "cell_type": "markdown",
   "metadata": {},
   "source": [
    "### Models of measuring electricity risk "
   ]
  },
  {
   "cell_type": "markdown",
   "metadata": {},
   "source": [
    "- [Properties of a Risk Measure Derived from Ruin Theory](https://sci-hub.se/https://link.springer.com/article/10.1057/grir.2010.10)\n",
    "    - Residual life order\n",
    "    - var type risk measure\n",
    "    - application to portfolio theory\n",
    "\n",
    "- [ ] [Modelling risk for electric power markets](http://www.scielo.org.co/scielo.php?script=sci_arttext&pid=S0121-50512012000200005)\n"
   ]
  },
  {
   "cell_type": "markdown",
   "metadata": {},
   "source": [
    "#### VaR\n",
    "\n",
    "- [Value at risk (VaR)](https://en.wikipedia.org/wiki/Value_at_risk) is a measure of the risk of loss for investments. It estimates how much a set of investments might lose (with a given probability), given normal market conditions, in a set time period such as a day. VaR is typically used by firms and regulators in the financial industry to gauge the amount of assets needed to cover possible losses.\n",
    "    - [slides: Var vs CVaR](https://www.ise.ufl.edu/uryasev/files/2011/11/VaR_vs_CVaR_CARISMA_conference_2010.pdf)\n",
    "    - [Conditional Value-at-Risk (CVaR):Algorithms and Applications](https://www-iam.mathematik.hu-berlin.de/~romisch/SP01/Uryasev.pdf)\n",
    "    - [Conditional Value-at-Risk:  Theory and Applications](https://www.maths.ed.ac.uk/~prichtar/docs/Kisiala_Dissertation.pdf)\n",
    "- [MARKET RISK IN COMMODITY MARKETS: A VaR APPROACH](http://www.timberlake-consultancy.com/slaurent/pdf/dp2003-28.pdf)\n",
    "- [ESTIMATING VALUE-AT-RISK BASED ON NON-NORMAL DISTRIBUTIONS](https://www.researchgate.net/publication/283243124_ESTIMATING_VALUE-AT-RISK_BASED_ON_NON-NORMAL_DISTRIBUTIONS)    "
   ]
  },
  {
   "cell_type": "markdown",
   "metadata": {},
   "source": [
    "- [ ] ! [Estimating value at risk and conditional value at risk for count variables](https://onlinelibrary.wiley.com/doi/abs/10.1002/qre.1238)\n",
    "    - CVaR for poisson and binomial \n",
    "    - properties of risk under poisson and binomial\n",
    "    - empirical analysis\n",
    "- [ ] [Estimating  Value-at-Risk  in  Electricity  Market  Based  on  Grey  Extreme  Value Theory](https://pdfs.semanticscholar.org/f713/1370453cd9f82ca376692e94f5b17f985310.pdf)\n",
    "- [ ] [Risk Analysis of Energy in Vietnam](https://repub.eur.nl/pub/115616/)"
   ]
  },
  {
   "cell_type": "markdown",
   "metadata": {},
   "source": [
    "- [ ] [Frequency Based Risk Assessment of a Power Producer in Indian Electricity Market](https://www.degruyter.com/view/j/ijeeps.2017.18.issue-5/ijeeps-2016-0180/ijeeps-2016-0180.xml)\n",
    "- [ ] [A STRUCTURAL RISK-NEUTRAL MODEL OF ELECTRICITY PRICES](http://www.cmap.polytechnique.fr/~touzi/AidCampiNguyenTouzi-printed-IJTAF-Nov09.pdf)\n",
    "- [ ] [Volatility and Risk In Electricity Price Forecasting](http://www.energyonline.com/Reports/Files/LCG_Volatility.pdf)\n",
    "- [ ] [A MODEL FOR HEDGING LOAD AND PRICE RISK IN THE TEXAS ELECTRICITY MARKET](https://sircar.princeton.edu/Public/ARTICLES/CPS_May2013.pdf)\n"
   ]
  },
  {
   "cell_type": "markdown",
   "metadata": {},
   "source": [
    "###  Econometrics "
   ]
  },
  {
   "cell_type": "markdown",
   "metadata": {},
   "source": [
    "#### Modelling electricity risks \n",
    "\n",
    "GARCH-type, SV\n",
    "\n",
    "- [ ] [Practical stochastic modelling of electricity prices ](https://hal-enac.archives-ouvertes.fr/hal-01021603/document)\n",
    "- [ ] [Value-at-Risk estimation of energy commodities: A long-memory GARCH–EVT approach](https://www.sciencedirect.com/science/article/pii/S0140988315001851) \n",
    "\n",
    "\n",
    "- [Modeling energy price dynamics: GARCH vs SV](https://www.sciencedirect.com/science/article/pii/S0140988315003539)\n",
    "-  [MODELING THE DYNAMICS OF INTERNATIONAL AGRICULTURAL COMMODITY PRICES: A COMPARISON OF GARCH AND STOCHASTIC VOLATILITY MODELS](https://www.worldscientific.com/doi/abs/10.1142/S2010495218500100)\n",
    "- [Построение COGARCH](https://publications.hse.ru/mirror/pubs/share/folder/phhxhykug0/direct/167843999)\n",
    "- [Risk and Volatility: Econometric Models and Financial Practice](https://www.aeaweb.org/articles?id=10.1257/0002828041464597)\n",
    "- [Bayesian Analysis of FIAPARCH Model: AnApplication to S ̃ao Paulo Stock Market](https://core.ac.uk/download/pdf/15564550.pdf)\n",
    "- [VALUE-AT-RISK (VAR) ANALYSIS AND LONG MEMORY: EVIDENCE FROM FIAPARCH IN ISTANBUL  STOCK EXCHANGE (ISE)](https://dergipark.org.tr/download/article-file/30335)\n",
    "- [Do We Really Need Both BEKK and DCC](http://www.kier.kyoto-u.ac.jp/DP/DP738.pdf)\n",
    "- [Comparison of BEKK GARCH and DCC GARCH Models: An Empirical Study](https://link.springer.com/chapter/10.1007%2F978-3-642-17313-4_10)\n",
    "\n",
    " Markov regime-switching\n",
    " \n",
    " \n",
    "- [ ] [A regime-switching stochastic volatility model for forecasting electricity prices](https://econ.au.dk/fileadmin/site_files/filer_oekonomi/Working_Papers/CREATES/2017/rp17_03.pdf)\n",
    "\n",
    "regression models, AR, ARX, TAR, combination of ARIMA and discrete Markov process\n",
    "\n",
    "\n",
    " similar day, exponential smoothing\n",
    "\n",
    " feed-forward NN, recurrent NN, fuzzy NN, SVM \n",
    "- [Forecasting energy market indices with recurrent neural networks: Case study of crude oil price fluctuations](https://www.sciencedirect.com/science/article/abs/pii/S0360544216301608)\n",
    " \n",
    "\n",
    " bayes\n",
    "\n",
    "- [ ] [Probabilistic Electricity Price Forecasting with Bayesian Stochastic Volatility Models](https://www.researchgate.net/publication/331065098_Probabilistic_Electricity_Price_Forecasting_with_Bayesian_Stochastic_Volatility_Models)\n",
    "- [BAYESIAN NON-PARAMETRIC MODELING USING LEVY PROCESS PRIORS WITH APPLICATIONS FOR FUNCTION ESTIMATION, TIME SERIES MODELING AND SPATIO-TEMPORAL MODELING](https://pdfs.semanticscholar.org/46bf/3a36ffcdce0e585f14f6634679a1182665b0.pdf)\n",
    "- [Leverage effects and stochastic volatility in spot oil returns: A Bayesian approach with VaR and CVaR applications](https://www.sciencedirect.com/science/article/pii/S0140988318301130)"
   ]
  },
  {
   "cell_type": "markdown",
   "metadata": {},
   "source": []
  },
  {
   "cell_type": "markdown",
   "metadata": {},
   "source": [
    "#### Filling gaps\n",
    "\n",
    "Temporal Disaggregarion\n",
    "\n",
    "- [r temdisagg package](https://cran.r-project.org/web/packages/tempdisagg/index.html)\n",
    "\n",
    "\n",
    "Grey\n",
    "\n",
    "- [ ] [Missing Data Imputation Based on Grey System Theory](https://www.researchgate.net/publication/291098549_Missing_Data_Imputation_Based_on_Grey_System_Theory)\n",
    "- [ ] [A Survey of Selected Grey Forecasting Models with Application to Medical Tourism Forecasting](https://www.researchgate.net/publication/332634968_A_Survey_of_Selected_Grey_Forecasting_Models_with_Application_to_Medical_Tourism_Forecasting)\n",
    "- [ ] [Applied Hybrid Grey Model to Forecast Seasonal Time Series](http://citeseerx.ist.psu.edu/viewdoc/download?doi=10.1.1.1020.8267&rep=rep1&type=pdf)\n",
    "- [ ] [Clustering-Based Multiple Imputation via Gray Relational Analysis for Missing Data and Its Application to Aerospace Field](https://www.hindawi.com/journals/tswj/2013/720392/)\n",
    "    - [This algorithm contain three techniques :\n",
    "1-fuzzy c-mean clustering, 2-Grey relational theory, 3-Entropy multiple imputation](https://stats.stackexchange.com/questions/189987/using-entropy-to-imputing-missing-value-based-on-grey-relational-analysis-and-cl)\n",
    "\n",
    "State Space models \n",
    "\n",
    "- [r midasr package](http://mpiktas.github.io/midasr/)\n",
    "    - [State Space Models and MIDAS Regressions](https://econpapers.repec.org/article/tafemetrv/v_3a32_3ay_3a2013_3ai_3a7_3ap_3a779-813.htm)\n",
    "- Kalman-filter approach\n",
    "    - [Dynamic Regressions with Variables Observed at Different Frequencies](https://pdfs.semanticscholar.org/f73c/41c55f2d3043cc3ca7141c4cb084486e8d76.pdf)"
   ]
  },
  {
   "cell_type": "markdown",
   "metadata": {},
   "source": [
    "Multiple seasonality\n",
    "\n",
    "- stl and str packages\n",
    "- [ ] [oxtexts: Complex seasonlaity](https://otexts.com/fpp2/complexseasonality.html)"
   ]
  },
  {
   "cell_type": "markdown",
   "metadata": {},
   "source": [
    "### The forward market, option pricing\n",
    "\n"
   ]
  },
  {
   "cell_type": "markdown",
   "metadata": {},
   "source": [
    "- [ ] [Использование инструментов финансового рынка для управления рисками в электроэнергетике](https://cyberleninka.ru/article/v/ispolzovanie-instrumentov-finansovogo-rynka-dlya-upravleniya-riskami-v-elektroenergetike)\n",
    "-  [Анализ развития фондового рынка как источника формирования инвестиций](https://cyberleninka.ru/article/n/analiz-razvitiya-fondovogo-rynka-kak-istochnika-formirovaniya-investitsiy)\n",
    "-  [Внедрение новых инвестиционных инструментов из-за рубежа в России](https://cyberleninka.ru/article/n/vnedrenie-novyh-investitsionnyh-instrumentov-iz-za-rubezha-v-rossii)"
   ]
  },
  {
   "cell_type": "code",
   "execution_count": null,
   "metadata": {},
   "outputs": [],
   "source": []
  },
  {
   "cell_type": "markdown",
   "metadata": {},
   "source": [
    "#### Risk Management and Hedging\n",
    "\n",
    "- [ ] [Energy risk management and value at risk modeling](https://www.researchgate.net/publication/222400423_Energy_risk_management_and_value_at_risk_modeling)\n",
    "    - Short, GARCH, VaR estimation example\n",
    "- [ ] [Managing electricity market price risk](http://lib.tkk.fi/Diss/2004/isbn9512274027/article4.pdf)    \n",
    "- [ ] [Electricity market short-term risk management via risk-adjusted probability measures](https://www.iit.comillas.edu/publicacion/mostrar_publicacion_revista.php.en?id=1157)\n",
    "- [ ] [Pricing and Risk Management in Competitive ElectricityMarkets](http://citeseerx.ist.psu.edu/viewdoc/download?doi=10.1.1.515.4685&rep=rep1&type=pdf)\n",
    "- [ ] [Electricity derivatives and risk management](https://oren.ieor.berkeley.edu/pubs/Deng%20and%20Oren-86.pdf)\n",
    "- [ ] [Using forward markets to improve electricity market design](http://www.cramton.umd.edu/papers2005-2009/ausubel-cramton-forward-markets-in-electricity.pdf)\n",
    "- [ ] [European Electricity Forward Markets and Hedging Products ](https://www.acer.europa.eu/en/Electricity/Market%20monitoring/Documents_Public/ECA%20Report%20on%20European%20Electricity%20Forward%20Markets.pdf)\n",
    "- [ ] [Using electricity options to hedge against financial risks of power producers](https://link.springer.com/article/10.1007/s40565-013-0018-y)\n",
    "- [ ] BOOK [Energy Derivatives: Pricing and Risk Management](https://eu.spb.ru/images/stories/library/files/EnergyDerivatives.pdf)\n"
   ]
  },
  {
   "cell_type": "markdown",
   "metadata": {},
   "source": [
    "#### Electricity Futures Pricing\n",
    "\n",
    "Фьючерсы на электроэнергию позволяют хеджировать рыночный риск генкомпании\n",
    "\n",
    "- [ ] [CHAPTER 18: ELECTRICITY FUTURES](https://boa.unimib.it/retrieve/handle/10281/98952/145272/b1892-ch18.pdf)\n",
    "    - Are futures prices unbiased estimates of spot electricity prices?\n",
    "- [ ] [On modelling the electricity futures curve](https://essay.utwente.nl/60867/1/BSc_Rick_ter_Haar.pdf)\n",
    "- [ ] [PRICING FUTURES AND OPTIONS IN ELECTRICITY MARKETS](https://core.ac.uk/download/pdf/30831489.pdf)"
   ]
  },
  {
   "cell_type": "markdown",
   "metadata": {},
   "source": [
    "#### Options\n",
    "\n",
    "- [ ] [Option pricing of spinning reserve in a deregulated electricity market](https://ieeexplore.ieee.org/abstract/document/850432)"
   ]
  },
  {
   "cell_type": "markdown",
   "metadata": {},
   "source": [
    "### Other"
   ]
  },
  {
   "cell_type": "markdown",
   "metadata": {},
   "source": [
    "books\n",
    "\n",
    "- [MIT SOC](https://ocw.mit.edu/courses/sloan-school-of-management/15-070j-advanced-stochastic-processes-fall-2013/lecture-notes/)\n",
    "- [Introduction to Dynamic ProgrammingApplied to Economics](https://www.fep.up.pt/docentes/joao/material/aea/notas_pbrito_2008.pdf)\n",
    "- [Modelling stochastic correlation!!!!!!](https://mathematicsinindustry.springeropen.com/track/pdf/10.1186/s13362-016-0018-4)\n",
    "- [Bayesian Analysis\n",
    "of Stochastic\n",
    "Process Models (with R)]()\n",
    "- [Bayesian Inference for Stochastic Processes](https://www.crcpress.com/Bayesian-Inference-for-Stochastic-Processes/Broemeling/p/book/9781138196131)\n",
    "- [Slides: Bayesian Analysis of Stochastic Process Model](http://www.est.uc3m.es/BayesUC3M/Courses/UC3M-1.pdf), [all slides](https://stochastic_numerics.kaust.edu.sa/Documents/pdf%20seminars/FabrizioRuggeri_KAUST_March2013.pdf)\n",
    "- [Lecture Notes On Solution Methods for Microeconomic Dynamic Stochastic Optimization Problems](http://citeseerx.ist.psu.edu/viewdoc/download?doi=10.1.1.304.7347&rep=rep1&type=pdf)\n",
    "- [Solution Methods for Microeconomic Dynamic Stochastic Optimization Problems](http://www.econ2.jhu.edu/people/ccarroll/SolvingMicroDSOPs.pdf)\n",
    "- [STOCHASTIC PROCESSES, ITˆO CALCULUS, ANDAPPLICATIONS IN ECONOMICS](http://home.uchicago.edu/~hickmanbr/uploads/chapter5_3.pdf)\n",
    "- [Stochastic Estimation of Dynamical Variables](https://arxiv.org/pdf/1812.05120.pdf)\n",
    "- [Bayesian modeling of dynamic extremevalues: extension of generalized extreme valuedistributions with latent stochastic processes](https://www.tandfonline.com/doi/abs/10.1080/02664763.2016.1201796)\n",
    "\n",
    "intro \n",
    "- [Importance of stochastic properties of economic variables for macroeconomic theories](https://www.sciencedirect.com/science/article/pii/S1877042813050659)\n",
    "- [THE RELEVANCE OF STOCHASTIC VARIABLES IN ECONOMICS](https://is.muni.cz/th/fjgv4/FODOR__BP.pdf)"
   ]
  },
  {
   "cell_type": "markdown",
   "metadata": {},
   "source": [
    "#### Data\n",
    "\n",
    "- [РСВ - по часам](http://www.atsenergo.ru/results/rsv/index)\n",
    "    - скачано c 01-08-2013 по 23-09-2019\n",
    "    \n",
    "- [РСВ - посуточно](http://www.atsenergo.ru/results/rsv/statistics?period=1)\n",
    "\n",
    "\n",
    "- [СО ЕЭС](http://www.so-ups.ru/index.php?id=ees_gen_consump_plan&no_cache=1)"
   ]
  },
  {
   "cell_type": "code",
   "execution_count": null,
   "metadata": {},
   "outputs": [],
   "source": []
  }
 ],
 "metadata": {
  "hide_input": false,
  "kernelspec": {
   "display_name": "Python 3",
   "language": "python",
   "name": "python3"
  },
  "language_info": {
   "codemirror_mode": {
    "name": "ipython",
    "version": 3
   },
   "file_extension": ".py",
   "mimetype": "text/x-python",
   "name": "python",
   "nbconvert_exporter": "python",
   "pygments_lexer": "ipython3",
   "version": "3.7.3"
  },
  "latex_envs": {
   "LaTeX_envs_menu_present": true,
   "autoclose": true,
   "autocomplete": true,
   "bibliofile": "biblio.bib",
   "cite_by": "apalike",
   "current_citInitial": 1,
   "eqLabelWithNumbers": true,
   "eqNumInitial": 1,
   "hotkeys": {
    "equation": "Ctrl-E",
    "itemize": "Ctrl-I"
   },
   "labels_anchors": false,
   "latex_user_defs": false,
   "report_style_numbering": false,
   "user_envs_cfg": false
  },
  "toc": {
   "base_numbering": 1,
   "nav_menu": {},
   "number_sections": true,
   "sideBar": true,
   "skip_h1_title": false,
   "title_cell": "Table of Contents",
   "title_sidebar": "Contents",
   "toc_cell": false,
   "toc_position": {},
   "toc_section_display": true,
   "toc_window_display": false
  },
  "varInspector": {
   "cols": {
    "lenName": 16,
    "lenType": 16,
    "lenVar": 40
   },
   "kernels_config": {
    "python": {
     "delete_cmd_postfix": "",
     "delete_cmd_prefix": "del ",
     "library": "var_list.py",
     "varRefreshCmd": "print(var_dic_list())"
    },
    "r": {
     "delete_cmd_postfix": ") ",
     "delete_cmd_prefix": "rm(",
     "library": "var_list.r",
     "varRefreshCmd": "cat(var_dic_list()) "
    }
   },
   "types_to_exclude": [
    "module",
    "function",
    "builtin_function_or_method",
    "instance",
    "_Feature"
   ],
   "window_display": false
  }
 },
 "nbformat": 4,
 "nbformat_minor": 2
}
