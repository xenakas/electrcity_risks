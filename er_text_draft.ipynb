{
 "cells": [
  {
   "cell_type": "markdown",
   "metadata": {},
   "source": [
    "### Intro. Electricity market specifics"
   ]
  },
  {
   "cell_type": "markdown",
   "metadata": {},
   "source": [
    "- electricity trading deregulation (using spot and derivative contracts)\n",
    "- capacity market (buy guarantee that electricity will be available), day-ahead (booked in advance) and intraday market (smaller amounts but higher prices), frequency control (excess power can be used for frequency control)\n",
    "\n",
    "\n",
    "Specialties:\n",
    "\n",
    "- The risks of electricity consumption are related to ensuring supply-demand\n",
    "balance and preventing blackouts\n",
    "- economically unstorable\n",
    "- power systems requires constant balance between production and consumption \n",
    "    - unit commitment problem (percise measurements and forecasting  techniques are needed for companies decision-making mechanisms)\n",
    "        - This is necessary because it is difficult to store electrical energy on a scale comparable with normal consumption; hence, each (substantial) variation in the consumption must be matched by a corresponding variation of the production.\n",
    "    - forecasts from few hours to few months ahead are of interest to power portfolio managers. A generator, utility company or large industrial consumers able to forecast the volatile wholesale prices with a reasonable accuracy can adjust its bidding strategy and its own production, reducing the risk and maximizing the profits in day-ahead trading    \n",
    "    - short-term forecasting (few minutes to few days) is of prime importance for day-to-day market operations, medium-term (few days to few months)  for january balance sheet calcualtions, risk management and derivatives pricing, evaluation of which  in many cases is based on  distribution of prices    not on actual prices, long-term forecasting (months to years) for investment profitability, capacity investment decisions \n",
    "    - In the long term, network structure must be adapted to new consumption patterns, new plants and interconnections must be built. In the medium term, sufficient supply margin must be ensured for the cold season, taking into account the possibility of extreme tempetatures. In the short term (1-2 days), sufficient production units must be affected to meet demand.\n",
    "- Most energy crisis have been caused by localized shortages, wars and market manipulation. Some have argued that government actions like tax hikes, nationalisation of energy companies, and regulation of the energy sector, shift supply and demand of energy away from its economic equilibrium. A crisis can develop due to industrial actions like union organized strikes and government embargoes. The cause may be over-consumption, aging infrastructure, choke point disruption or bottlenecks at oil refineries and port facilities that restrict fuel supply. An emergency may emerge during very cold winters due to increased consumption of energy.  California Crisis of 2000-2001 showed \n",
    "    - electric utilities are the most vulnerable since they usually cannot pass a cost on to retail  consumers\n",
    "    - the costs of over and under contracting and then selling and buying power in the bouncing or real-time markets are typically so high they can lead to huge central losses or even bankruptcy\n",
    "    - Megawatt laundering: California energy market allowed for energy companies to charge higher prices for electricity produced out-of-state. It was therefore advantageous to make it appear that electricity was being generated somewhere other than California.\n",
    "    - Overscheduling is a term used in describing the manipulation of capacity available for the transportation of electricity along power lines. Power lines have a defined maximum load. Lines must be booked (or scheduled) in advance for transporting bought-and-sold quantities of electricity. \"Overscheduling\" means a deliberate reservation of more line usage than is actually required and can create the appearance that the power lines are congested. \n",
    "    -  Government price caps. Energy price regulation incentivized suppliers to ration their electricity supply rather than expand production. The resulting scarcity created opportunities for market manipulation by energy speculators. When the electricity demand in California rose, utilities had no financial incentive to expand production, as long term prices were capped.  In some instances, wholesalers scheduled power transmission to create congestion and drive up prices.\n",
    "- extreme price volatility (order of magnitude higher than other assets) have forced market participants to hedge not only against volume risks, but also against price movements\n",
    "- electricity spot market is typically a day ahead market and there's not enough continuous trading\n",
    "    - this is a result of system operators requiring advance notice in order to verify the schedule  that  is feasible and falls into the transmission constraints\n",
    "    - in a day ahead market agents submit their bids and offers for delivering electricity during an hour (or shorter load period of the next day)\n",
    "    - thus when dealing with the modelling and forecasting intraday electricity prices it's important to remember that in most markets  prices for all contracts of the next day are chosen using the same amount of available information\n",
    "    - also in europe day ahead prices are referred as spot prices, however in us spot is reserved for intraday market, while day-ahead market is called forward market    \n",
    "- the impact of transmission congestion (перегруженность передающих линий)\n",
    "    - when there is no transmission congestion the market clearing price is the only price in the entire system\n",
    "    - however when there is TC locational marginal prices or zonal clearing prices differ from the system price and from each other\n",
    "    - TC can be predicted in the short term\n",
    "- markets spikes can also be due to sudden changes in supply, such as plant outages"
   ]
  },
  {
   "cell_type": "markdown",
   "metadata": {},
   "source": [
    "The genuine role of an organized market electricity like a Power Exchange or power pool is to match supply and demand => the termination of a market clearing price. Typically the NTP is establishing an auction conducted once per day:\n",
    "\n",
    "![](https://assets.greentechmedia.com/assets/content/cache/made/assets/content/cache/remote/https_dqbasmyouzti2.cloudfront.net/content/images/articles/4ISOmrkt_616_462_80.jpg)\n",
    "\n",
    "- demand can be estimated by operator in a one-sided demand auction or be determined from the aggregate demand bids\n",
    "- bids with negative prices are allowed in many markets, potentially  used in markets when demand is very low, but the costs of shutting down and ramping up a power plant exceeds the loss from accepting negative prices \n",
    "- for very short-time horizon for delivery the trasmission system operator can use balancing or real-time market\n",
    "    - this technical market is used  to  price deviations in supply and demand from day ahead or long term contracts"
   ]
  },
  {
   "cell_type": "markdown",
   "metadata": {},
   "source": [
    "The producer makes a bid in the spot (day-ahead) market at time $t = 0$, by\n",
    "making an engagement to deliver the amount $\\bar{P_k}$ of electricity during the\n",
    "delivery period $[T_{k + \\delta}, T_{k+1 + \\delta}], \\forall k = 1, . . . , N$.\n",
    "\n",
    "Spot price is the sum of OU processes:\n",
    "\n",
    "$$F_t = F(0,t) + \\bar{\\alpha(t)} \\sum_{j=1}^{M'} Y_t^j$$\n",
    "\n",
    "$$F(t,T) = E[F_t|\\mathcal{F_t}] = F(0,T)  + \\sum_{j=1}^{M'} \\bar{\\alpha}(T) e^{-\\bar{\\lambda}_j (T-t)Y^j_t}$$"
   ]
  },
  {
   "cell_type": "markdown",
   "metadata": {},
   "source": [
    "Electricity demand depends on \n",
    "\n",
    "- weather: temperature, wind speed, etc.\n",
    "    - electrical consumption is strongly correlated with meteorological conditions (e.g. in France in winter variation of 1C corresponds to an variation of consuption of 2500 MW (in summer about 400 MW due to air conditioning))\n",
    "    - cloud cover (measured on scale from 0 to 8, a variation of 1 unit corresponds to a variation of consumption of about 800 MV)\n",
    "    - the main risk for power systems comes from consumption spikes during the cold season, which are caused by cold waves\n",
    "- intensity of business and everyday activities\n",
    "- has daily (The daily maximum is attained around 1PM in summer and 7PM in winter; the minimal consumption is observed during the night.), weekly (The consumption is lower during the week-end and especially on Sunday due to reduced economic activity) and annual seasonality and abrupt short-loved January unanticipated price spikes\n",
    "\n",
    "Forecasting demand\n",
    "\n",
    "- Short-term forecasting demand (up to 1 week) is based on\n",
    "meteorological forecasts and on\n",
    "historical consumption data.\n",
    "\n",
    "- Seasonal forecasts are produced\n",
    "with reference meteorological data.\n",
    "Historical simulations may be used\n",
    "for scenario analysis.\n",
    "\n",
    "- Long-term consumption scenarios are produced by RTE based on plausible scenarios of economic activity in different sectors and the evolution of consumption patterns.\n",
    "\n",
    "\n",
    "Demand can be described by a stochastic process\n",
    "\n",
    "$$D_t = \\bar{D_t} + X_t$$\n",
    "\n",
    "$$dX_t = (\\mu - \\lambda X_t) dt +\\sigma dW_t$$\n",
    "\n",
    "where $\\bar{D_t}$ is a seasonal component and X_t is stationary stochastic part\n",
    "\n",
    "Electricity supply depends on \n",
    "\n",
    "- weather: especially for renewables (wind, solar)\n",
    "\n",
    "\n",
    "- deployment of Smart Grid technologies\n",
    "- impact of renewables"
   ]
  },
  {
   "cell_type": "markdown",
   "metadata": {},
   "source": [
    "### Russian electricity market "
   ]
  },
  {
   "cell_type": "markdown",
   "metadata": {},
   "source": [
    "The transport (high voltage grid) is a natural monopoly and usually managed\n",
    "by Transportation Service Operator (TSO), a state company (in Russia,\n",
    "Федеральная Сетевая Компания, in France RTE), who is also responsible\n",
    "for real time operation and equilibrium of the energy system."
   ]
  },
  {
   "cell_type": "markdown",
   "metadata": {},
   "source": [
    "####  [Основные характеристики российской электроэнергетики](https://minenergo.gov.ru/node/532)\n",
    "\n",
    "Энергосистема Российской Федерации состоит из ЕЭС России (семь объединенных энергосистем (ОЭС) – ОЭС Центра, Средней Волги, Урала, Северо-Запада, Юга и Сибири) и территориально изолированных энергосистем (Чукотский автономный округ, Камчатский край, Сахалинская и Магаданская область, Норильско-Таймырский и Николаевский энергорайоны, энергосистемы северной части Республики Саха (Якутия)).\n",
    "\n",
    "\n",
    "- В 2018 г. увеличение годового объема электропотребления ЕЭС России из‑за влияния температурного фактора (на фоне понижения среднегодовой температуры относительно прошлого года на 0,6°С) оценивается величиной около 5,0 млрд кВт-ч. Наиболее значительное влияние температуры на изменение динамики электропотребления наблюдалось в марте, октябре и декабре 2018 г., когда соответствующие отклонения среднемесячных температур достигали максимальных значений.\n",
    "\n",
    "- Стратегия развития энергетического машиностроения до 2030 года.В 2018 году Министерство промышленности и торговли Российской Федерации планирует завершить работу по созданию стратегии развития энергетического машиностроения на 2018–2020 годы и на перспективу до 2030 года. По итогам выполнения данной работы будут определены наиболее востребованные механизмы поддержки, которые позволят обеспечить загрузку российских предприятий и развитие отечественной научно-технической базы.\n",
    "\n",
    "- Программа стимулирования спроса на современное отечествен-ное электроэнергетическое оборудование.Министерство энергетики Российской Федерации разработало проект программы модер-низации генерации в Российской Федерации. согласно проекту программы, планируется модернизировать около 40 гВт установленной мощности до 2035 года, при этом основой будет тепловая генерация. Реализация новой программы модернизации объектов генерации тепловой энергетики позволит повысить надежность российской энергетической системы."
   ]
  },
  {
   "cell_type": "markdown",
   "metadata": {},
   "source": [
    "Классификация рынков электроэнергии и мощности\n",
    "\n",
    "Рынок электроэнергии и мощности в России представляет собой двухуровневую систему: оптовый и розничный рынки. Электроэнергия и мощность продаются как два отдельных товара.Электроэнергия и мощность продаются как два отдельных товара. Участниками оптового рынка являются генерирующие компании, выступающие в качестве продавцов электроэнергии и мощности, а также покупатели — крупные промышленные предприятия, сбытовые компании и гарантирующие поставщики. \n",
    "\n",
    "На розничном рынке продавцами являются сбытовые компании и гаран-тирующие поставщики, компании малой генерации и ВИЭ с установленной мощ-ностью менее 25 МВт. К покупателям относится население, а также прирав-ненные к нему категории потребителей и небольшие предприятия. \n",
    "\n",
    "Мощность представляет собой товар, покупка которого дает участнику опто-вого рынка право требовать от продав-ца мощности поддержания в готовности генерирующего оборудования для вы-работки электроэнергии установленного качества в объеме, необходимом для удовлетворения потребности указан-ного участника в электроэнергии.\n",
    "\n",
    "Согласно требованиям законодатель-ства, все генерирующие станции уста-новленной мощностью свыше 25 МВт осуществляют продажу электроэнергии на оптовый рынок электроэнергии и мощности. Станции мощностью до 25 МВт работают по выбору — на оптовом или на розничном рынке электроэнергии и мощности.\n",
    "\n",
    "\n",
    "Электроэнергия и мощность реализу-ются по двум видам договоров:\n",
    "\n",
    "- договор энергоснабжения, в рамках которого сбытовая компания обязу-ется не только продать потребителю электроэнергию, но и оказать услуги по передаче, для чего сбытовая ком-пания заключает договор на передачу электроэнергии с сетевой компанией;\n",
    "- договор купли-продажи электроэнер-гии и мощности, при котором потре-бители заключают с сетевой компа-нией прямой договор на оказание услуг по передаче электроэнергии и оплачивают ее отдельно по двум договорам — по договору купли-продажи электроэнергии со сбытовой компанией и по договору на услуги по передаче с сетевой компанией.\n",
    "\n",
    "Ценообразование на рынках электро-энергии и мощности зависит от того, на каком рынке осуществляют деятель-ность поставщики и покупатели: на оптовом или розничном, а также от категории, к которой относится поставщик или покупатель.\n",
    "\n",
    "\n",
    "![](Screenshot28.png)"
   ]
  },
  {
   "cell_type": "markdown",
   "metadata": {},
   "source": [
    "#####  Оптовый рынок электроэнергии\n",
    "\n",
    "Оптовый рынок электроэнергии и мощ-ности (ОРЭМ) был создан в 2003 году в рамках реформы РАО «ЕЭС России»4с целью объединения в одном месте крупных производителей и потребите-лей электроэнергии\n",
    "\n",
    "Основной объем (около 72%) произво-димой электроэнергии продаетсяна рынке на сутки вперед (РСВ).\n",
    "\n",
    "![](Screenshot24.png)\n",
    "\n",
    "\n",
    "\n",
    "Рынок на сутки вперед (РСВ) предусма-тривает конкурентный отбор ценовых заявок поставщиков и покупателей за сутки до реальной поставки электро-энергии с определением цен и объемов поставки на каждый час следующих суток.\n",
    "\n",
    "Администратор торговой системы (АТС) собирает от производителей и потреби-телей заявки. Цена РСВ определяется путем балансирования спроса и пред-ложения и распространяется на всех участников рынка.\n",
    "\n",
    "\n",
    "При этом в первую очередь в объемы планового производства включаются объемы электроэнергии, в отношении которых поданы заявки с предложением наиболее низких цен, а в объемы планового потребления — те, которые покупатели готовы купить по наиболее высокой цене или включенные в заявки, принимающие цены (отражающие готовность покупателя купить объем электроэнергии по любой сложившейся на РСВ цене).\n",
    "\n",
    "\n",
    "\n",
    "На РСВ определяются плановые объемы производства и потребления на следую-щие сутки, однако фактическое потре-бление может отличаться от планового. Торговля отклонениями фактических объемов производства и потребления от плановых осуществляется в режиме реального времени на балансирующем рынке (БР).\n",
    "\n",
    "На БР продается около 6% от общего объема реализуемой электро-энергии. \n",
    "\n",
    "За каждые три часа до часа фактической поставки проводятся дополнительные конкурентные отборы заявок поставщи-ков с учетом уточненного прогнозного потребления в энергосистеме, экономиче-ской эффективности изменения загрузки станций и требований системной надежности. "
   ]
  },
  {
   "attachments": {},
   "cell_type": "markdown",
   "metadata": {},
   "source": [
    "![](https://www.energo-konsultant.ru/upload/upload/files/tsenizone.jpg)"
   ]
  },
  {
   "cell_type": "markdown",
   "metadata": {},
   "source": [
    "##### Розничный рынок электроэнергии\n",
    "\n",
    "Электроэнергия на розничном рынке может продаваться либо по регулиру-емым ценам в рамках регулируемых договоров, либо по конкурентным (нерегулируемым) ценам.\n",
    "\n",
    "- Регулируемые цены\n",
    "    - Регулируемые цены устанавливаются на основании одобренного Правительством РФ прогноза социально-экономического развития на следующий год. Предельные минимальные и максимальные уровни регулируемых тарифов на электроэнер-гию для населения и приравненных к нему категорий потребителей утвер-ждаются ФАС России. Предельные макси-мальные и минимальные уровни тарифов могут устанавливаться с календарной разбивкой как в среднем по субъектам Российской Федерации, так и отдельнодля гарантирующих поставщиков и других энергоснабжающих органи-заций с учетом региональных и иных особенностей6.\n",
    "- Нерегулируемые цены\n",
    "    - В ценовых зонах на розничных рынках электроэнергия продается по нерегули-руемым ценам всем, кроме населения и приравненных к нему категорий граждан. Гарантирующие поставщики продают ее в рамках предельных уровней нерегулируемых цен, опреде-ляемых и применяемых в соответствии с Постановлением Правительства РФ No442 от 4 мая 2012 года7. Энерго-сбытовые компании могут реализовывать электроэнергию по свободным нерегули-руемым ценам, т. е. без учета предель-ного уровня. Продажа электроэнергии по свободным ценам в неценовых и изолированных зонах не осуществляется."
   ]
  },
  {
   "cell_type": "markdown",
   "metadata": {},
   "source": [
    "##### Оптовый рынок мощности\n",
    "\n",
    "Все участники оптового рынка, покупающие электроэнергию, имеют обязательства по покупке мощности в объеме, обеспечивающем выработку поставщиками соответствующего объема электроэнергии.\n",
    "\n",
    "Существует несколько механизмов реали-зации мощности:\n",
    "\n",
    "- покупка / продажа мощности, отобран-ной по итогам конкурентного отбора мощности (КОМ);\n",
    "- покупка / продажа мощности по сво-бодным договорам купли-продажи мощности (СДМ), при заключении которых участники рынка в индивиду-альном порядке самостоятельно опре-деляют контрагентов, цены и объемы поставки;\n",
    "- покупка / продажа мощности по договорам о предоставлении мощности (ДПМ) новых атомных электростанций и гидроэлектростан-ций, а также генерирующих объектов, функционирующих на основе ВИЭи на природном газе; \n",
    "- покупка / продажа мощности генери-рующих объектов, поставляющих мощ-ность в вынужденном режиме (ВР)\n",
    "\n",
    "Договоры о предоставлении мощности — это специальный механизм, стимули-рующий инвестиции в электроэнерге-тическую отрасль и обеспечивающий выполнение инвесторами обязательств по вводу генерирующих мощностей, который был разработан Министерством энергетики РФ и Ассоциацией «НП Совет рынка» в 2008-2010 годах."
   ]
  },
  {
   "cell_type": "markdown",
   "metadata": {},
   "source": [
    "##### Формирование тарифа для конечного потребителя\n",
    "\n",
    "Тариф для конечного потребителя на электроэнергию и мощность форми-руется на основе пяти составляющих:\n",
    "- цена электроэнергии (цена покупки электроэнергии на оптовом рынке или у розничного генератора);\n",
    "- цена мощности (цена покупки мощно-сти энергосбытовой компанией на оптовом рынке или у розничного генератора);\n",
    "- цена передачи по сети с дифференци-ацией по уровню напряжения: тарифы ФСК на передачу по магистральным сетям, тарифы МРСК на передачу по сетям среднего напряжения и тарифТСО на передачу по сетям низкого напряжения;\n",
    "- инфраструктурные платежи: плата за услуги СО ЕЭС, АТС, ЦФР. Размер платы регулируется ФАС Россиии Ассоциацией «НП Совет рынка»;\n",
    "-   сбытовая надбавка."
   ]
  },
  {
   "cell_type": "markdown",
   "metadata": {},
   "source": [
    "В 2016-2017 годах компании электро-энергетической отрасли демонстрируют рост операционной рентабельности и сни-жение долговой нагрузки. В то же время инвестиции в отрасль после подъема, связанного с реформами 2008-2011 годов, в последние годы сокращаются на фоне завершения программы ДПМ"
   ]
  },
  {
   "cell_type": "markdown",
   "metadata": {},
   "source": [
    "##### Сдерживающие факторы \n",
    "\n",
    "1) Высокая степеньизношенностиосновных фондов\n",
    "- Снижение потребления электроэнергии на фоне спада промышленного произ-водства в 1990-х годах, а также нерегу-лярный и неполный характер расчетов за предоставленную электроэнергию способствовали систематическому де-фициту собственных средств, выделяе-мых на обновление основных фондов электроэнергетики. В результате много лет сектор электроэнергетики не полу-чал достаточного объема инвестиций, что на текущий момент привело к крити-ческому износу оборудования.\n",
    "- Согласно Генеральной схеме размеще-ния объектов электроэнергетики до 2035 года, около 46% установленных мощно-стей в России были введены до 1980 го-да, то есть имеют возраст более 36 лет. \n",
    "- Дефицит инвестиций в обновление основных производственных фондов, а также в их реконструкцию и модерни-зацию может привести к техническим ограничениям и снизить надежность энергоснабжения потребителей. \n",
    "    \n",
    "2) Перекрестное субсидирование\n",
    "- Перекрестное субсидирование — это це-новая дискриминация, при которой для одних покупателей (потребителей) цена устанавливается ниже предельных издер-жек за счет других покупателей (потре-бителей), для которых цена устанавлива-ется выше предельных издержек (при этом средние цены соответствуют сред-ним издержкам). Данный механизм вно-сит значительные искажения в конечную цену электрической и тепловой энергии и в тарифы на услуги по ее передаче.\n",
    "- Наиболее ярким примером тарифной по-литики последних лет является перекрест-ное субсидирование между категориями потребителей, приводящее к перераспре-делению платежного бремени, часть которого переносится с населения на про-мышленность. Указанное перераспреде-ление реализуется через стоимость услуг по передаче электроэнергии для промыш-ленных предприятий и групп. \n",
    "- Стоит отметить, что помимо этого суще-ствуют и другие виды перекрестного субсидирования: межтерриториальное, между видами товаров (тепловая и электрическая энергия). Такое субси-дирование реализуется на оптовом рынке электроэнергии (мощности)с применением тарифов по регулируе-мым договорам. Однако данные виды субсидирования по объему в денежном выражении значительно уступают перекрестному субсидированию между промышленностью и населением.\n",
    "- Перекрестное субсидирование между ка-тегориями потребителей в сфере электро-энергетики возникло в России в начале 1990-х годов, когда в период экономиче-ского спада государством были приняты меры социальной поддержки населения. В конце 1990-х годов Правительство России поставило цели по ликвидации пе-рекрестного субсидирования. К 2007 году экономическая справедливость цен для различных категорий потребителей была практически достигнута, однако после кризиса 2008 года динамика ухудшилась: расхождение тарифов для населения и промышленности снова увеличилось.\n",
    "- Перекрестное субсидирование населе-ния в существенной мере негативно влияет на отрасль. Среди его основных недостатков можно выделить:\n",
    "    - стимулирование крупных потребите-лей к уходу из «большой» энергетики и к постройке собственных генерирую-щих объектов, что приводит к росту тарифной нагрузки для остальных потребителей, снижению эффектив-ности энергокомпаний и необходи-мости консервации мощностей;\n",
    "    - отсутствие адресности при распреде-лении субсидий (ввиду того, что раз-мер субсидии до 2013 года был пропорционален потреблению элек-троэнергии, наиболее обеспеченные домохозяйства получали значительно больший объем социальной помощи, чем домохозяйства с меньшим уровнем дохода);\n",
    "    - непрозрачность  распределения нагрузки по перекрестному субсидиро-ванию между группами потребителей.\n",
    "    \n",
    "3) Проблема неплатежей\n",
    "- По данным Ассоциации «НП Совет рынка», на конец октября 2017 года на оптовом рынке задолженность соста-вила 65,2 млрд руб., а на розничном — 243 млрд руб. Если на оптовом рынке электроэнергии есть ряд законодательных мер, которые позволяют воздействовать на непла-тельщика, то на розничном рынке такой механизм практически отсутствует. Фактически отключить электроэнергию населению и приравненной к нему груп-пе потребителей не представляется воз-можным из-за особого статуса предо-ставляемой услуги — ее высокой социальной значимости. \n",
    "\n",
    "4) Вынужденная генерация\n",
    "- Сокращение доли выработки тепловой энергии на ТЭЦ приводит к тому, что наиболее экономичные и надежные теплоисточники в массовом порядке становятся неэффективными на рынке электроэнергии, где они сначала полу-чают статус генераторов, работающих в вынужденном режиме, а впоследствии выводятся из эксплуатации. Мощности, работающие в режиме вы-нужденной генерации, оплачиваются по существенно более высокой цене, чем рыночная, что приводит к росту рас-ходов потребителей.\n",
    "\n",
    "5) Высокие потери тепла\n",
    "- Объемы реконструкции и реновации тепловых сетей недостаточны для под-держания их в требуемом техническом состоянии, что приводит к значительным потерям энергии при передаче. По данным Министерства энергетики, около 70% теплосетейработают с превышением нормативного срока службы, а 20% котлов и турбин тепловых электростанций служат более 50 лет при норме в 40 лет. В период с 2007 по 2013 год аварий-ность в теплосетях увеличилась на 45%. \n",
    "- Износ тепловых сетей приводит к высо-ким теплопотерям: в России они дости-гают 20-30%, что практически в четыре раза выше, чем в европейских странах. В 2016 году потери в системе тепло-снабжения, по данным Росстата, составили 132,3 млн Гкал32. \n",
    "- По данным Министерства энергетики, для того, чтобы российская система теплоснабжения стала надежной и при-близилась по эффективности к европей-ским стандартам, до 2025 года нужно вложить в отрасль 2,5 трлн руб. Из них около 40% требуется потратить на об-новление генерирующих объектов, 30% – на обновление теплосетей, а оставшуюся треть средств планирует-ся направить на оптимизацию операци-онных расходов (на диспетчеризацию, автоматизацию, создание системы раннего диагностирования, повышение квалификации персонала, создание удобной инфраструктуры для работыс потребителями и выполнение других задач).\n",
    "    "
   ]
  },
  {
   "cell_type": "markdown",
   "metadata": {},
   "source": [
    "##### Прогнозы развития"
   ]
  },
  {
   "cell_type": "markdown",
   "metadata": {},
   "source": [
    "#### [Обзор электро-энергетическойотрасли России](https://www.ey.com/Publication/vwLUAssets/EY-power-market-russia-2018/$File/EY-power-market-russia-2018.pdf)\n",
    "\n",
    "\n",
    "- Генерация (Конкурентный сегмент)\n",
    "    - Государственные - ПАО «РусГидро», ООО «Газпромэнергохолдинг», ПАО «Интер РАО»,АО «Концерн Росэнергоатом»\n",
    "    - Частные (РФ) - АО «ЕвроСибЭнерго», ПАО «Т Плюс»и другие\n",
    "    - Частные (иностр.) ПАО «Юнипро», ПАО «Фортум»*,ПАО «Энел Россия»\n",
    "    \n",
    "- Передача и распределение (регулируемый сегмент)\n",
    "    - Группа российских сетевых компаний ПАО \"Россети\" - Федеральная сетевая компания, Межрегиональные распределительные сетевые компании, Региональные распределительные сети\n",
    "    - Частные - прочие - АО «БЭСК», ПАО «СУЭНКО» и другие\n",
    "    \n",
    "Совокупная установленная мощность российских генерирующих компаний демонстрировала устойчивый роств 2011-2016 годах, что обусловлено проведением государственных реформ в энергетической отрасли в 2001-2011 годах.\n",
    "\n",
    "\n",
    " Реформа была направлена на повышение конкуренции в отрасли и стабильности системы, а именно на увеличение резервов мощности и модернизацию оборудования,а также на привлечение инвестицийв российскую энергетику."
   ]
  },
  {
   "cell_type": "markdown",
   "metadata": {},
   "source": [
    "#### [Энергетическое машиностроение, электротехническая и кабельная промышленности](http://minpromtorg.gov.ru/common/upload/docVersions/5ad48d069014f/actual/Minpromtorg_press2.pdf)\n",
    "\n",
    "\n",
    "Важнейшие события отрасли в 2017 году\n",
    "\n",
    "- «Хевел» (совместное предприятие гК «Ренова» и ао «Роснано») завершила модернизацию технологической линии и увеличила мощность производственного комплекса до 160 МВт в год. Этот объём производства позволит на 50% обеспечить текущие потребности российского рынка солнечной энергетики. Завод начал выпуск солнечных модулей по принци-пиально новой технологии — гетероструктурной. \n",
    "- ао «Роснано» и оао «Фортум» создали инвестиционный Фонд развития ветроэнергетики (объем инвестиций 30 млрд рублей) в целях инвестирования в строительство ветро-парков и запуска проектов по локализации производства ветроустановок, а также венчурных проектов в области возобновляемой энергетики. \n",
    "- В 2017 г. введено в эксплуатацию 15 генерирующих объектов, функционирующих на основе использования энергии солнца, и 1 генерирующий объект, функционирующий на ос-нове использования энергии ветра, на общую установленную мощность 199 МВт с высоким уровнем локализации, подтвержденным Минпромторгом России.\n",
    "\n",
    "Общий бюджет на поддержку отрасли (за счет федерального бюджета) составил 0,285 млрд рублей\n",
    "\n"
   ]
  },
  {
   "cell_type": "markdown",
   "metadata": {},
   "source": [
    "\n",
    "### Models of measuring electricity risk \n",
    "\n",
    "- multi-agent (Nas-Cournot framework, supply function equilibrium, strategic production-cost, etc)\n",
    "    - optimization, equilibrium and simulation models\n",
    "    - these models tend to provide prices higher than those observed in reality\n",
    "    - [Forecasting the Mean and the Variance of Electricity Prices in Deregulated Markets](https://ieeexplore.ieee.org/abstract/document/4414354)\n",
    "        - two sources of uncertainty: the availability of generation units and demand\n",
    "        - as the number of firms in the market decreases the expected values of prices increase by significant amount\n",
    "        - accurate temperature forecast can reduce the prediction error of electricity price forecast \n",
    "    - supply function equlibrium approach requires a set of differential equations to be solved => limitations concerning tracability, demand is usually agregated into blocks  to speed up computations, doesnt't account for extreme values \n",
    "        - linear SFE model are used for analysis of bidding strategies, market power and congestion management\n",
    "    - strategic PCM: each agent maximizes its profits by bidding strategies and knows only its costs \n",
    "        - computationally fast, but doesn't take onto account change of bidding strategies in reaction to competitors \n",
    "    - agent-based approach (simulation models to analyse market power)\n",
    "        - purpose is not to predict the outcome of system, but to reveal and explain complex and aggregate system behaviors that emerge from interaction of the agents\n",
    "        - typically are elements of more complex hybrid electricity price forecasting systems\n",
    "        - flexible and easy to compute, but requires assumptions embedded in the simulation to be justified both theoretically and empirically => high modelling risk (сложно определить, кто на самом деле является участниками рынка и их пэйоффы)\n",
    "- funtamental (parameter rich, parsimonious structural) \n",
    "    - modelling the impacts of important physical and economic factors on the price of electricity"
   ]
  },
  {
   "cell_type": "markdown",
   "metadata": {},
   "source": [
    "###  Maths\n",
    "\n",
    "Unlike stock price process which are hardly predictable, electricity prices are\n",
    "related to a multitude of observable factors: consumption, fuel prices, plant\n",
    "outages etc.\n",
    "\n",
    "\n",
    "\n",
    "- Jump-diffusion process\n",
    "    - Empirically,  tend to have fat tails,inconsistent with the Black-Scholes model’s assumptions => stochastic volatility and jump processes\n",
    "    - Merton’s Jump-Diffusion Model superimposes a jump component on adiffusion component\n",
    "        - The jump component is composed of lognormal jumps driven by a Poisson process\n",
    "        - It models the sudden changes in the price because of the arrival of important new information    \n",
    "\n",
    "- the spot price is the exponential of a sum of Ornstein-Uhlenbeck processes\n",
    "(may be used to model price spikes)\n",
    "\n",
    "$$S_t = f_0(t) \\exp{( 1/2 \\int_0^t ||\\sigma(s,t)||^2 ds + \\sum^n_{i=1} X_t^i)}$$\n",
    "\n",
    "где $X^i_t = e^{-\\lambda_i t}\\int_0^t e^{\\lambda_i s }dW^i-s$, \n",
    "\n",
    "$dX^i_t = -\\lambda_i X^i_t +\\sigma_i dW^i_t $,\n",
    "\n",
    "$\\sigma_i(t,T) = \\sigma_i e^{-\\lambda(T-t)}$"
   ]
  },
  {
   "cell_type": "markdown",
   "metadata": {},
   "source": [
    "#### [Merton’s Jump-Diffusion Model](https://www.csie.ntu.edu.tw/~lyuu/finance1/2015/20150513.pdf)\n",
    "\n",
    "Let $S_t$ be the stock price at time $t$.\n",
    "\n",
    "The risk-neutral jump-diffusion process for the stock price follows\n",
    "$$dS_t/S_t=(r−\\lambda \\bar{k})dt+\\sigma dW_t+kdq_t.$$\n",
    "\n",
    "$\\sigma$ denotes the volatility of the diffusion component\n",
    "\n",
    "The jump event is governed by a __compound Poisson process__ $q_t$ with intensity $\\lambda$, where $k$ denotes the magnitude of the random jump.\n",
    "\n",
    "The distribution of $k$ obeys\n",
    "\n",
    "$$ln(1 +k)\\sim N(\\gamma,\\delta^2)$$\n",
    "\n",
    "with mean \n",
    "$\\bar{k} = E(k)=e^{\\gamma + \\delta^2/2}-1$\n",
    "\n",
    "The model with $\\lambda=0$ reduces to the Black-Scholes model."
   ]
  },
  {
   "cell_type": "markdown",
   "metadata": {},
   "source": [
    "#### Lucia and Schwartz (2002)\n",
    "\n",
    "Deterministic seasonality:\n",
    "\n",
    "$$\\ln S_t = g(t) +Y_t$$\n",
    "\n",
    "Mean-reverting component\n",
    "\n",
    "$$dY_t = -\\alpha Y_t dt + \\sigma(t) dW_t$$"
   ]
  },
  {
   "cell_type": "markdown",
   "metadata": {},
   "source": [
    "#### Cartea and Figueroa (2005) model\n",
    "\n",
    "\n",
    "Deterministic seasonality:\n",
    "\n",
    "$$\\ln S_t = g(t) +Y_t$$\n",
    "\n",
    "$J$ - log-npormal proportional jump size, $q$ - Poisson process of jump times\n",
    "\n",
    "$$dY_t = -\\alpha Y_t dt + \\sigma(t) dW_t + J dq_t$$\n",
    "\n",
    "In this model, forward prices can be computed explicitly under deterministic\n",
    "market price of risk assumption."
   ]
  },
  {
   "cell_type": "markdown",
   "metadata": {},
   "source": [
    "#### Stack curve model \n",
    "\n",
    "The electricity demand $D_t$ can be satisfied with $n$ different technologies;\n",
    "\n",
    "Each technology has available capacity $C_t^i$ and fuel cost $h_i S_t^i$, where $S^i$ is the fuel price and $h_i$ is the heat rate;\n",
    "\n",
    "The spot price depends on the marginal fuel cost and the reserve margin:\n",
    "$$P_t = g (R_t )  \\hat{P}_t,  R_t = \\sum^n_{i=1} C_t^i - D_t$$\n",
    "\n",
    "where $g$ is the scarcity function:\n",
    "$$g (x) = \\min{(\\gamma/x^\\nu, M)1_{x>0}}  + M1_{x\\leq 0}$$\n"
   ]
  },
  {
   "cell_type": "markdown",
   "metadata": {},
   "source": [
    "###  Econometrics \n",
    "\n",
    "Modelling electricity risks \n",
    "\n",
    "- GARCH-type, SV\n",
    "- Markov regime-switching\n",
    "    - In financial econometrics, the Markov-switching multifractal (MSM) is a model of asset returns that incorporates stochastic volatility components of heterogeneous durations. MSM captures the outliers, log-memory-like volatility persistence and power variation of financial returns. In currency and equity series, MSM compares favorably with standard volatility models such as GARCH(1,1) and FIGARCH both in- and out-of-sample. MSM is used by practitioners in the financial industry to forecast volatility, compute value-at-risk, and price derivatives\n",
    "    - [A regime-switching stochastic volatility model for forecasting electricity prices](https://econ.au.dk/fileadmin/site_files/filer_oekonomi/Working_Papers/CREATES/2017/rp17_03.pdf)\n",
    "- regression models, AR, ARX, TAR, combination of ARIMA and discrete Markov process\n",
    "- similar day, exponential smoothing\n",
    "- feed-forward NN, recurrent NN, fuzzy NN, SVM \n",
    "\n",
    "\n",
    "\n",
    "Filling gaps\n",
    "\n",
    "- [Missing Data Imputation Based on Grey System Theory](https://www.researchgate.net/publication/291098549_Missing_Data_Imputation_Based_on_Grey_System_Theory)\n",
    "    - [A Survey of Selected Grey Forecasting Models with Application to Medical Tourism Forecasting](https://www.researchgate.net/publication/332634968_A_Survey_of_Selected_Grey_Forecasting_Models_with_Application_to_Medical_Tourism_Forecasting)\n",
    "    - [Applied Hybrid Grey Model to Forecast Seasonal Time Series](http://citeseerx.ist.psu.edu/viewdoc/download?doi=10.1.1.1020.8267&rep=rep1&type=pdf)\n",
    "    - [Clustering-Based Multiple Imputation via Gray Relational Analysis for Missing Data and Its Application to Aerospace Field](https://www.hindawi.com/journals/tswj/2013/720392/)\n",
    "        - [This algorithm contain three techniques :\n",
    "1-fuzzy c-mean clustering, 2-Grey relational theory, 3-Entropy multiple imputation](https://stats.stackexchange.com/questions/189987/using-entropy-to-imputing-missing-value-based-on-grey-relational-analysis-and-cl)\n",
    "- [r temdisagg package](https://cran.r-project.org/web/packages/tempdisagg/index.html)\n",
    "    - The low frequency (annual) data could, of course, be converted into monthly data by using some interpolation technique; for example, using the Chow-Lin procedure. \n",
    "- [r midasr package](http://mpiktas.github.io/midasr/)\n",
    "    - Mi(xed) da(ta) s(ampling). There are two main ideas here. The first is frequency alignment. The second is to tackle the curse of dimensionality by specifying an appropriate polynomial. The unrestricted MIDAS model is the simplest from within the class of models and can be estimated by ordinary least squares. \n",
    "    - [State Space Models and MIDAS Regressions](https://econpapers.repec.org/article/tafemetrv/v_3a32_3ay_3a2013_3ai_3a7_3ap_3a779-813.htm)\n",
    "- Kalman-filter approach\n",
    "    - This is a state-space modelling approach, which involves treating the low-frequency data as containing NAs and filling them in using a Kalman filter. This is my personal preference, but it does have the difficulty of specifying the correct state-space model.\n",
    "- [Dynamic Regressions with Variables Observed at Different Frequencies](https://pdfs.semanticscholar.org/f73c/41c55f2d3043cc3ca7141c4cb084486e8d76.pdf)\n",
    "\n",
    "Multiple seasonality\n",
    "\n",
    "- stl and str packages\n",
    "- https://otexts.com/fpp2/complexseasonality.html"
   ]
  },
  {
   "cell_type": "markdown",
   "metadata": {},
   "source": [
    "### The forward market\n",
    "\n",
    "- Electricity futures contract are traded in the European Energy Exchange\n",
    "(EEX).\n",
    "- Since electricity is a flow commodity, for each contract, a delivery period is\n",
    "specified. For the German market, EEX offers futures for 6 next years, 11\n",
    "next quarters, 9 next months, 4 next weeks 2 weekends and 8 days.\n",
    "- Future contracts come in 3 different flavors: base-load (every hour),\n",
    "peak-load (7h-20h Mon-Fri) and off-peak load.\n",
    "-  This allows to maintain reasonable liquidity while enabling market\n",
    "participants to hedge their positions precisely.\n",
    "\n",
    "Futures prices are much less volatile\n",
    "than spot prices, especially for longer delivery periods. \n",
    "\n",
    "Due to non-storability of energy, futures\n",
    "prices are not correlated with spot prices\n",
    "and one cannot speak of convergence of\n",
    "futures prices to spot prices.\n",
    "\n",
    "Futures for winter delivery are more\n",
    "expensive."
   ]
  },
  {
   "cell_type": "markdown",
   "metadata": {},
   "source": [
    "При моделировании цены фьючерсного контракта обратный арбитраж принесет:\n",
    "\n",
    "$$F_t(T)  = e^{r(T-t)}S_t$$\n",
    "\n",
    "Если существуют издержки хранения $c$:\n",
    "\n",
    "$$F_t(T)  = e^{(r+с)(T-t)}S_t$$\n",
    "\n",
    "Если по данному активу невозможно открыть короткую позицию:\n",
    "\n",
    "$$F_t(T)  = e^{(r+с-y)(T-t)}S_t$$\n",
    "\n",
    "где $y \\geq 0 $ - \"премия за удобство\"\n",
    "\n",
    "Поскольку в больших количествах электричество хранить экономически невыгодно необходимо моделировать спот-цены и цены на фьючерсы параллельно "
   ]
  },
  {
   "cell_type": "markdown",
   "metadata": {},
   "source": [
    "Computing forward prices:\n",
    "\n",
    "The forward price can be computed as risk-neutral expectation \n",
    "\n",
    "$$f_t(T) = E[S_T|\\mathcal{F}_t]$$\n",
    "\n",
    "Under risk-neutral probability the dynamics of spot price may be different \n",
    "\n",
    "$$dY_t = \\alpha (\\lambda - Y_t)dt +\\sigma dW_t^*$$"
   ]
  },
  {
   "cell_type": "code",
   "execution_count": null,
   "metadata": {},
   "outputs": [],
   "source": []
  }
 ],
 "metadata": {
  "hide_input": false,
  "kernelspec": {
   "display_name": "Python 3",
   "language": "python",
   "name": "python3"
  },
  "language_info": {
   "codemirror_mode": {
    "name": "ipython",
    "version": 3
   },
   "file_extension": ".py",
   "mimetype": "text/x-python",
   "name": "python",
   "nbconvert_exporter": "python",
   "pygments_lexer": "ipython3",
   "version": "3.7.3"
  },
  "latex_envs": {
   "LaTeX_envs_menu_present": true,
   "autoclose": true,
   "autocomplete": true,
   "bibliofile": "biblio.bib",
   "cite_by": "apalike",
   "current_citInitial": 1,
   "eqLabelWithNumbers": true,
   "eqNumInitial": 1,
   "hotkeys": {
    "equation": "Ctrl-E",
    "itemize": "Ctrl-I"
   },
   "labels_anchors": false,
   "latex_user_defs": false,
   "report_style_numbering": false,
   "user_envs_cfg": false
  },
  "toc": {
   "base_numbering": 1,
   "nav_menu": {},
   "number_sections": true,
   "sideBar": true,
   "skip_h1_title": false,
   "title_cell": "Table of Contents",
   "title_sidebar": "Contents",
   "toc_cell": false,
   "toc_position": {},
   "toc_section_display": true,
   "toc_window_display": false
  },
  "varInspector": {
   "cols": {
    "lenName": 16,
    "lenType": 16,
    "lenVar": 40
   },
   "kernels_config": {
    "python": {
     "delete_cmd_postfix": "",
     "delete_cmd_prefix": "del ",
     "library": "var_list.py",
     "varRefreshCmd": "print(var_dic_list())"
    },
    "r": {
     "delete_cmd_postfix": ") ",
     "delete_cmd_prefix": "rm(",
     "library": "var_list.r",
     "varRefreshCmd": "cat(var_dic_list()) "
    }
   },
   "types_to_exclude": [
    "module",
    "function",
    "builtin_function_or_method",
    "instance",
    "_Feature"
   ],
   "window_display": false
  }
 },
 "nbformat": 4,
 "nbformat_minor": 2
}
