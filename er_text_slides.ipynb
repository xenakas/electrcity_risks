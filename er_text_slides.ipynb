{
 "cells": [
  {
   "cell_type": "markdown",
   "metadata": {},
   "source": [
    "### Слайд 2 (Мотивация)"
   ]
  },
  {
   "cell_type": "markdown",
   "metadata": {},
   "source": [
    "\\begin{itemize}\t\t\n",
    "    \\item экономические модели используемые в литературе не могут учесть всех факторов сразу, поэтому требуют введения определенных предпосылок и упрощений;\n",
    "    \\item при моделировании цены как диффузионно-скачкообразного процесса в чистом виде не учитываются экономические факторы влияющие на изменение коэффициентов в модели;\n",
    "    \\item \\textbf{цель работы} - разработка модели ценообразования на оптовом рынке электроэнергии (РСВ), учитывающей как особенности российского рынка, так и случайную компоненту. \t\t\n",
    "\\end{itemize}"
   ]
  },
  {
   "cell_type": "markdown",
   "metadata": {},
   "source": [
    "### Слайд 3 (Актуальность )\n",
    "\n",
    "Гипотеза:\n",
    "\n",
    "\\begin{itemize}\n",
    "    \\item построив математическую модель, описывающую цену на электроэнергию как диффузионно-скачкообразный процесс, включающую в себя в том числе и  факторы, влияющие на спрос и предложение на рынке электроэнергии, можно получить более точные оценки коэффициентов при интересующих нас переменных. \n"
   ]
  },
  {
   "cell_type": "markdown",
   "metadata": {},
   "source": [
    "### Слайд \n",
    "\n",
    "Особенности рынка электричества\n",
    "\\begin{itemize}\n",
    "\t\\item невозможность хранения => проблема обязательства энергоустановки (unit commitment), учитывается при моделировании цены фьючерсного контракта (так как невозможно открыть короткую позицию). \n",
    "\t\\item проблема с ограничениями ЛЭП (проблема решается единым оператором), возможность перенапряжения сети (в таком случае локальные цены отличаются от общеустановленных по системе) \n",
    "\t\\item цены на электричество определяются на РСВ, т.е. отсутствует непрерывность торговли, решения на все сутки принимаются на основании одного и того же информационного множества\n",
    "\t\\item невозможность перераспределить волатильность цен по производственной цепочке \n",
    "\t\\item  цены имеют три уровня циклических колебаний: ежедневная, недельная, годовая (с резкими всплесками в январе)\n",
    "\t\\item причины энергетических кризисов: изменения налогообложения, рыночные манипуляции, устаревшая инфраструктура, провалы рынка, излишняя зарегулированность, перебои с поставками топлива, резкое изменение климата,  доставка электричества дешевле стоимости производства \n",
    "\\end{itemize}"
   ]
  },
  {
   "cell_type": "code",
   "execution_count": null,
   "metadata": {},
   "outputs": [],
   "source": []
  }
 ],
 "metadata": {
  "hide_input": false,
  "kernelspec": {
   "display_name": "Python 3",
   "language": "python",
   "name": "python3"
  },
  "language_info": {
   "codemirror_mode": {
    "name": "ipython",
    "version": 3
   },
   "file_extension": ".py",
   "mimetype": "text/x-python",
   "name": "python",
   "nbconvert_exporter": "python",
   "pygments_lexer": "ipython3",
   "version": "3.7.3"
  },
  "latex_envs": {
   "LaTeX_envs_menu_present": true,
   "autoclose": true,
   "autocomplete": true,
   "bibliofile": "biblio.bib",
   "cite_by": "apalike",
   "current_citInitial": 1,
   "eqLabelWithNumbers": true,
   "eqNumInitial": 1,
   "hotkeys": {
    "equation": "Ctrl-E",
    "itemize": "Ctrl-I"
   },
   "labels_anchors": false,
   "latex_user_defs": false,
   "report_style_numbering": false,
   "user_envs_cfg": false
  },
  "toc": {
   "base_numbering": 1,
   "nav_menu": {},
   "number_sections": true,
   "sideBar": true,
   "skip_h1_title": false,
   "title_cell": "Table of Contents",
   "title_sidebar": "Contents",
   "toc_cell": false,
   "toc_position": {},
   "toc_section_display": true,
   "toc_window_display": false
  },
  "varInspector": {
   "cols": {
    "lenName": 16,
    "lenType": 16,
    "lenVar": 40
   },
   "kernels_config": {
    "python": {
     "delete_cmd_postfix": "",
     "delete_cmd_prefix": "del ",
     "library": "var_list.py",
     "varRefreshCmd": "print(var_dic_list())"
    },
    "r": {
     "delete_cmd_postfix": ") ",
     "delete_cmd_prefix": "rm(",
     "library": "var_list.r",
     "varRefreshCmd": "cat(var_dic_list()) "
    }
   },
   "types_to_exclude": [
    "module",
    "function",
    "builtin_function_or_method",
    "instance",
    "_Feature"
   ],
   "window_display": false
  }
 },
 "nbformat": 4,
 "nbformat_minor": 2
}
