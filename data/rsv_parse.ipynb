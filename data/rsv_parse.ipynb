{
 "cells": [
  {
   "cell_type": "code",
   "execution_count": 255,
   "metadata": {
    "ExecuteTime": {
     "end_time": "2019-09-22T21:27:59.672647Z",
     "start_time": "2019-09-22T21:27:59.666781Z"
    }
   },
   "outputs": [],
   "source": [
    "import requests \n",
    "from dateutil.relativedelta import relativedelta\n",
    "import datetime\n",
    "import pandas as pd\n",
    "from lxml import etree\n",
    "import lxml.html as lh\n",
    "import xml.etree.ElementTree as ET\n",
    "from bs4 import BeautifulSoup"
   ]
  },
  {
   "cell_type": "code",
   "execution_count": 289,
   "metadata": {
    "ExecuteTime": {
     "end_time": "2019-09-22T22:15:12.285637Z",
     "start_time": "2019-09-22T22:03:40.517231Z"
    }
   },
   "outputs": [],
   "source": [
    "# end = datetime.datetime.now()\n",
    "# start = end - relativedelta(years=3)\n",
    "\n",
    "start = datetime.datetime(day=31, month=7, year=2013)\n",
    "end = datetime.datetime(day=23, month=9, year=2016)\n",
    "\n",
    "d = start\n",
    "\n",
    "while d < end:\n",
    "\n",
    "    d += datetime.timedelta(days=1)\n",
    "    date_strs = '%04d%02d%02d' % (d.year, d.month, d.day)\n",
    "\n",
    "    url = 'https://www.atsenergo.ru/market/stats.xml?period=0&date1='+ date_strs +'&date2=' +  date_strs +'&zone=1&type=graph'\n",
    "    response = requests.get(url)\n",
    "#     print(response.status_code)\n",
    "#     data = response.content\n",
    "#     print(data)\n",
    "#     data.decode('utf-8')[:200]\n",
    "#     tree = ET.ElementTree(ET.fromstring(data.decode('utf-8')))\n",
    "    soup = BeautifulSoup(response.content,'xml')\n",
    "    soup = BeautifulSoup(str(soup).replace('</col>', ';</col>'),'xml')\n",
    "\n",
    "    rsv_df = pd.DataFrame([i.text.split(\";\")[:-1] for i in soup.find_all('row')], columns=[i.text for i in soup.find_all('name')])\n",
    "\n",
    "#     print(soup)\n",
    "    \n",
    "    url = 'https://www.atsenergo.ru/market/stats.xml?period=0&date1='+ date_strs +'&date2=' +  date_strs +'&zone=2&type=graph'\n",
    "    response = requests.get(url)\n",
    "    soup = BeautifulSoup(response.content,'xml')\n",
    "    soup = BeautifulSoup(str(soup).replace('</col>', ';</col>'),'xml')\n",
    "    rsv_df_2 = pd.DataFrame([i.text.split(\";\")[:-1] for i in soup.find_all('row')], columns=[i.text for i in soup.find_all('name')])\n",
    "\n",
    "    file_path = '/media/xenakas/ext4_drive/data_rsv/rsv_market/' +  str(d.year) +  '/rsv_market_' + date_strs + '.csv'\n",
    "#     file_path = '/media/xenakas/ext4_drive/data_rsv/rsv_market/' +  'rsv_market_' + date_strs + '.csv'\n",
    "\n",
    "    \n",
    "    rsv_df.append(rsv_df_2).to_csv(file_path)"
   ]
  },
  {
   "cell_type": "code",
   "execution_count": null,
   "metadata": {
    "ExecuteTime": {
     "end_time": "2019-09-22T22:29:45.744729Z",
     "start_time": "2019-09-22T22:29:45.711109Z"
    }
   },
   "outputs": [],
   "source": []
  },
  {
   "cell_type": "code",
   "execution_count": 305,
   "metadata": {
    "ExecuteTime": {
     "end_time": "2019-09-22T22:34:12.575413Z",
     "start_time": "2019-09-22T22:33:58.002636Z"
    }
   },
   "outputs": [],
   "source": [
    "start = datetime.datetime(day=31, month=7, year=2013)\n",
    "end = datetime.datetime(day=23, month=9, year=2019)\n",
    "\n",
    "all_rsv_df = pd.DataFrame(columns=['DAT', 'PRICE_ZONE_CODE', 'CONSUMER_VOLUME', 'CONSUMER_PRICE',\n",
    "       'CONSUMER_RD_VOLUME', 'CONSUMER_SPOT_VOLUME',\n",
    "       'CONSUMER_PROVIDE_RD', 'CONSUMER_MAX_PRICE', 'CONSUMER_MIN_PRICE',\n",
    "       'SUPPLIER_VOLUME', 'SUPPLIER_PRICE', 'SUPPLIER_RD_VOLUME',\n",
    "       'SUPPLIER_SPOT_VOLUME', 'SUPPLIER_PROVIDE_RD',\n",
    "       'SUPPLIER_MAX_PRICE', 'SUPPLIER_MIN_PRICE', 'HOUR'])\n",
    "\n",
    "d = start\n",
    "\n",
    "while d < end:\n",
    "\n",
    "    d += datetime.timedelta(days=1)\n",
    "    date_strs = '%04d%02d%02d' % (d.year, d.month, d.day)\n",
    "\n",
    "    file_path = '/media/xenakas/ext4_drive/data_rsv/rsv_market/' +  str(d.year) +  '/rsv_market_' + date_strs + '.csv'\n",
    "#     file_path = '/media/xenakas/ext4_drive/data_rsv/rsv_market/' +  'rsv_market_' + date_strs + '.csv'\n",
    "\n",
    "    \n",
    "    all_rsv_df = all_rsv_df.append(pd.read_csv(file_path, index_col=0))\n",
    "    "
   ]
  },
  {
   "cell_type": "code",
   "execution_count": 437,
   "metadata": {
    "ExecuteTime": {
     "end_time": "2019-09-22T23:36:35.494753Z",
     "start_time": "2019-09-22T23:36:35.488502Z"
    }
   },
   "outputs": [],
   "source": [
    "file_path = '/media/xenakas/ext4_drive/data_rsv/rsv_market/' +  'rsv_market_' + '20130801_20190923' + '.csv'"
   ]
  },
  {
   "cell_type": "code",
   "execution_count": 307,
   "metadata": {
    "ExecuteTime": {
     "end_time": "2019-09-22T22:35:28.123314Z",
     "start_time": "2019-09-22T22:35:26.884653Z"
    }
   },
   "outputs": [],
   "source": [
    "all_rsv_df.to_csv(file_path)"
   ]
  },
  {
   "cell_type": "code",
   "execution_count": 309,
   "metadata": {
    "ExecuteTime": {
     "end_time": "2019-09-22T22:36:46.459502Z",
     "start_time": "2019-09-22T22:36:46.417778Z"
    }
   },
   "outputs": [
    {
     "data": {
      "text/html": [
       "<div>\n",
       "<style scoped>\n",
       "    .dataframe tbody tr th:only-of-type {\n",
       "        vertical-align: middle;\n",
       "    }\n",
       "\n",
       "    .dataframe tbody tr th {\n",
       "        vertical-align: top;\n",
       "    }\n",
       "\n",
       "    .dataframe thead th {\n",
       "        text-align: right;\n",
       "    }\n",
       "</style>\n",
       "<table border=\"1\" class=\"dataframe\">\n",
       "  <thead>\n",
       "    <tr style=\"text-align: right;\">\n",
       "      <th></th>\n",
       "      <th>DAT</th>\n",
       "      <th>PRICE_ZONE_CODE</th>\n",
       "      <th>CONSUMER_VOLUME</th>\n",
       "      <th>CONSUMER_PRICE</th>\n",
       "      <th>CONSUMER_RD_VOLUME</th>\n",
       "      <th>CONSUMER_SPOT_VOLUME</th>\n",
       "      <th>CONSUMER_PROVIDE_RD</th>\n",
       "      <th>CONSUMER_MAX_PRICE</th>\n",
       "      <th>CONSUMER_MIN_PRICE</th>\n",
       "      <th>SUPPLIER_VOLUME</th>\n",
       "      <th>SUPPLIER_PRICE</th>\n",
       "      <th>SUPPLIER_RD_VOLUME</th>\n",
       "      <th>SUPPLIER_SPOT_VOLUME</th>\n",
       "      <th>SUPPLIER_PROVIDE_RD</th>\n",
       "      <th>SUPPLIER_MAX_PRICE</th>\n",
       "      <th>SUPPLIER_MIN_PRICE</th>\n",
       "      <th>HOUR</th>\n",
       "    </tr>\n",
       "  </thead>\n",
       "  <tbody>\n",
       "    <tr>\n",
       "      <td>0</td>\n",
       "      <td>01.08.2013</td>\n",
       "      <td>1</td>\n",
       "      <td>68613.793</td>\n",
       "      <td>1061.53</td>\n",
       "      <td>9552.214</td>\n",
       "      <td>57423.597</td>\n",
       "      <td>27.266</td>\n",
       "      <td>1223.91</td>\n",
       "      <td>707.91</td>\n",
       "      <td>70977.393</td>\n",
       "      <td>1018.87</td>\n",
       "      <td>9838.785</td>\n",
       "      <td>58155.791</td>\n",
       "      <td>510.003</td>\n",
       "      <td>1216.06</td>\n",
       "      <td>707.91</td>\n",
       "      <td>0</td>\n",
       "    </tr>\n",
       "    <tr>\n",
       "      <td>1</td>\n",
       "      <td>01.08.2013</td>\n",
       "      <td>1</td>\n",
       "      <td>66010.913</td>\n",
       "      <td>1022.81</td>\n",
       "      <td>9552.214</td>\n",
       "      <td>54759.100</td>\n",
       "      <td>39.652</td>\n",
       "      <td>1170.93</td>\n",
       "      <td>702.82</td>\n",
       "      <td>68312.485</td>\n",
       "      <td>982.87</td>\n",
       "      <td>9838.785</td>\n",
       "      <td>55484.574</td>\n",
       "      <td>503.694</td>\n",
       "      <td>1153.73</td>\n",
       "      <td>702.83</td>\n",
       "      <td>1</td>\n",
       "    </tr>\n",
       "    <tr>\n",
       "      <td>2</td>\n",
       "      <td>01.08.2013</td>\n",
       "      <td>1</td>\n",
       "      <td>64571.531</td>\n",
       "      <td>1001.07</td>\n",
       "      <td>9552.214</td>\n",
       "      <td>53286.262</td>\n",
       "      <td>54.665</td>\n",
       "      <td>1171.44</td>\n",
       "      <td>701.41</td>\n",
       "      <td>66821.170</td>\n",
       "      <td>962.80</td>\n",
       "      <td>9838.785</td>\n",
       "      <td>53977.449</td>\n",
       "      <td>484.204</td>\n",
       "      <td>1127.97</td>\n",
       "      <td>701.43</td>\n",
       "      <td>2</td>\n",
       "    </tr>\n",
       "    <tr>\n",
       "      <td>3</td>\n",
       "      <td>01.08.2013</td>\n",
       "      <td>1</td>\n",
       "      <td>64172.949</td>\n",
       "      <td>999.50</td>\n",
       "      <td>9552.214</td>\n",
       "      <td>52903.589</td>\n",
       "      <td>64.554</td>\n",
       "      <td>1186.59</td>\n",
       "      <td>697.36</td>\n",
       "      <td>66427.486</td>\n",
       "      <td>960.74</td>\n",
       "      <td>9838.785</td>\n",
       "      <td>53587.255</td>\n",
       "      <td>483.694</td>\n",
       "      <td>1122.88</td>\n",
       "      <td>697.36</td>\n",
       "      <td>3</td>\n",
       "    </tr>\n",
       "    <tr>\n",
       "      <td>4</td>\n",
       "      <td>01.08.2013</td>\n",
       "      <td>1</td>\n",
       "      <td>64270.455</td>\n",
       "      <td>986.94</td>\n",
       "      <td>9552.214</td>\n",
       "      <td>53006.707</td>\n",
       "      <td>83.432</td>\n",
       "      <td>1169.99</td>\n",
       "      <td>688.45</td>\n",
       "      <td>66498.112</td>\n",
       "      <td>949.41</td>\n",
       "      <td>9838.785</td>\n",
       "      <td>53664.967</td>\n",
       "      <td>483.720</td>\n",
       "      <td>1105.61</td>\n",
       "      <td>688.45</td>\n",
       "      <td>4</td>\n",
       "    </tr>\n",
       "  </tbody>\n",
       "</table>\n",
       "</div>"
      ],
      "text/plain": [
       "          DAT PRICE_ZONE_CODE  CONSUMER_VOLUME  CONSUMER_PRICE  \\\n",
       "0  01.08.2013               1        68613.793         1061.53   \n",
       "1  01.08.2013               1        66010.913         1022.81   \n",
       "2  01.08.2013               1        64571.531         1001.07   \n",
       "3  01.08.2013               1        64172.949          999.50   \n",
       "4  01.08.2013               1        64270.455          986.94   \n",
       "\n",
       "   CONSUMER_RD_VOLUME  CONSUMER_SPOT_VOLUME  CONSUMER_PROVIDE_RD  \\\n",
       "0            9552.214             57423.597               27.266   \n",
       "1            9552.214             54759.100               39.652   \n",
       "2            9552.214             53286.262               54.665   \n",
       "3            9552.214             52903.589               64.554   \n",
       "4            9552.214             53006.707               83.432   \n",
       "\n",
       "   CONSUMER_MAX_PRICE  CONSUMER_MIN_PRICE  SUPPLIER_VOLUME  SUPPLIER_PRICE  \\\n",
       "0             1223.91              707.91        70977.393         1018.87   \n",
       "1             1170.93              702.82        68312.485          982.87   \n",
       "2             1171.44              701.41        66821.170          962.80   \n",
       "3             1186.59              697.36        66427.486          960.74   \n",
       "4             1169.99              688.45        66498.112          949.41   \n",
       "\n",
       "   SUPPLIER_RD_VOLUME  SUPPLIER_SPOT_VOLUME  SUPPLIER_PROVIDE_RD  \\\n",
       "0            9838.785             58155.791              510.003   \n",
       "1            9838.785             55484.574              503.694   \n",
       "2            9838.785             53977.449              484.204   \n",
       "3            9838.785             53587.255              483.694   \n",
       "4            9838.785             53664.967              483.720   \n",
       "\n",
       "   SUPPLIER_MAX_PRICE  SUPPLIER_MIN_PRICE HOUR  \n",
       "0             1216.06              707.91    0  \n",
       "1             1153.73              702.83    1  \n",
       "2             1127.97              701.43    2  \n",
       "3             1122.88              697.36    3  \n",
       "4             1105.61              688.45    4  "
      ]
     },
     "execution_count": 309,
     "metadata": {},
     "output_type": "execute_result"
    }
   ],
   "source": [
    "all_rsv_df.head()"
   ]
  },
  {
   "cell_type": "code",
   "execution_count": 313,
   "metadata": {
    "ExecuteTime": {
     "end_time": "2019-09-22T22:38:59.817455Z",
     "start_time": "2019-09-22T22:38:59.648350Z"
    }
   },
   "outputs": [
    {
     "data": {
      "text/html": [
       "<div>\n",
       "<style scoped>\n",
       "    .dataframe tbody tr th:only-of-type {\n",
       "        vertical-align: middle;\n",
       "    }\n",
       "\n",
       "    .dataframe tbody tr th {\n",
       "        vertical-align: top;\n",
       "    }\n",
       "\n",
       "    .dataframe thead th {\n",
       "        text-align: right;\n",
       "    }\n",
       "</style>\n",
       "<table border=\"1\" class=\"dataframe\">\n",
       "  <thead>\n",
       "    <tr style=\"text-align: right;\">\n",
       "      <th></th>\n",
       "      <th></th>\n",
       "      <th></th>\n",
       "      <th>CONSUMER_VOLUME</th>\n",
       "      <th>CONSUMER_PRICE</th>\n",
       "      <th>CONSUMER_RD_VOLUME</th>\n",
       "      <th>CONSUMER_SPOT_VOLUME</th>\n",
       "      <th>CONSUMER_PROVIDE_RD</th>\n",
       "      <th>CONSUMER_MAX_PRICE</th>\n",
       "      <th>CONSUMER_MIN_PRICE</th>\n",
       "      <th>SUPPLIER_VOLUME</th>\n",
       "      <th>SUPPLIER_PRICE</th>\n",
       "      <th>SUPPLIER_RD_VOLUME</th>\n",
       "      <th>SUPPLIER_SPOT_VOLUME</th>\n",
       "      <th>SUPPLIER_PROVIDE_RD</th>\n",
       "      <th>SUPPLIER_MAX_PRICE</th>\n",
       "      <th>SUPPLIER_MIN_PRICE</th>\n",
       "    </tr>\n",
       "    <tr>\n",
       "      <th>PRICE_ZONE_CODE</th>\n",
       "      <th>DAT</th>\n",
       "      <th>HOUR</th>\n",
       "      <th></th>\n",
       "      <th></th>\n",
       "      <th></th>\n",
       "      <th></th>\n",
       "      <th></th>\n",
       "      <th></th>\n",
       "      <th></th>\n",
       "      <th></th>\n",
       "      <th></th>\n",
       "      <th></th>\n",
       "      <th></th>\n",
       "      <th></th>\n",
       "      <th></th>\n",
       "      <th></th>\n",
       "    </tr>\n",
       "  </thead>\n",
       "  <tbody>\n",
       "    <tr>\n",
       "      <td rowspan=\"5\" valign=\"top\">1</td>\n",
       "      <td rowspan=\"5\" valign=\"top\">01.08.2013</td>\n",
       "      <td>0</td>\n",
       "      <td>68613.793</td>\n",
       "      <td>1061.53</td>\n",
       "      <td>9552.214</td>\n",
       "      <td>57423.597</td>\n",
       "      <td>27.266</td>\n",
       "      <td>1223.91</td>\n",
       "      <td>707.91</td>\n",
       "      <td>70977.393</td>\n",
       "      <td>1018.87</td>\n",
       "      <td>9838.785</td>\n",
       "      <td>58155.791</td>\n",
       "      <td>510.003</td>\n",
       "      <td>1216.06</td>\n",
       "      <td>707.91</td>\n",
       "    </tr>\n",
       "    <tr>\n",
       "      <td>1</td>\n",
       "      <td>66010.913</td>\n",
       "      <td>1022.81</td>\n",
       "      <td>9552.214</td>\n",
       "      <td>54759.100</td>\n",
       "      <td>39.652</td>\n",
       "      <td>1170.93</td>\n",
       "      <td>702.82</td>\n",
       "      <td>68312.485</td>\n",
       "      <td>982.87</td>\n",
       "      <td>9838.785</td>\n",
       "      <td>55484.574</td>\n",
       "      <td>503.694</td>\n",
       "      <td>1153.73</td>\n",
       "      <td>702.83</td>\n",
       "    </tr>\n",
       "    <tr>\n",
       "      <td>2</td>\n",
       "      <td>64571.531</td>\n",
       "      <td>1001.07</td>\n",
       "      <td>9552.214</td>\n",
       "      <td>53286.262</td>\n",
       "      <td>54.665</td>\n",
       "      <td>1171.44</td>\n",
       "      <td>701.41</td>\n",
       "      <td>66821.170</td>\n",
       "      <td>962.80</td>\n",
       "      <td>9838.785</td>\n",
       "      <td>53977.449</td>\n",
       "      <td>484.204</td>\n",
       "      <td>1127.97</td>\n",
       "      <td>701.43</td>\n",
       "    </tr>\n",
       "    <tr>\n",
       "      <td>3</td>\n",
       "      <td>64172.949</td>\n",
       "      <td>999.50</td>\n",
       "      <td>9552.214</td>\n",
       "      <td>52903.589</td>\n",
       "      <td>64.554</td>\n",
       "      <td>1186.59</td>\n",
       "      <td>697.36</td>\n",
       "      <td>66427.486</td>\n",
       "      <td>960.74</td>\n",
       "      <td>9838.785</td>\n",
       "      <td>53587.255</td>\n",
       "      <td>483.694</td>\n",
       "      <td>1122.88</td>\n",
       "      <td>697.36</td>\n",
       "    </tr>\n",
       "    <tr>\n",
       "      <td>4</td>\n",
       "      <td>64270.455</td>\n",
       "      <td>986.94</td>\n",
       "      <td>9552.214</td>\n",
       "      <td>53006.707</td>\n",
       "      <td>83.432</td>\n",
       "      <td>1169.99</td>\n",
       "      <td>688.45</td>\n",
       "      <td>66498.112</td>\n",
       "      <td>949.41</td>\n",
       "      <td>9838.785</td>\n",
       "      <td>53664.967</td>\n",
       "      <td>483.720</td>\n",
       "      <td>1105.61</td>\n",
       "      <td>688.45</td>\n",
       "    </tr>\n",
       "    <tr>\n",
       "      <td>...</td>\n",
       "      <td>...</td>\n",
       "      <td>...</td>\n",
       "      <td>...</td>\n",
       "      <td>...</td>\n",
       "      <td>...</td>\n",
       "      <td>...</td>\n",
       "      <td>...</td>\n",
       "      <td>...</td>\n",
       "      <td>...</td>\n",
       "      <td>...</td>\n",
       "      <td>...</td>\n",
       "      <td>...</td>\n",
       "      <td>...</td>\n",
       "      <td>...</td>\n",
       "      <td>...</td>\n",
       "      <td>...</td>\n",
       "    </tr>\n",
       "    <tr>\n",
       "      <td rowspan=\"5\" valign=\"top\">2</td>\n",
       "      <td rowspan=\"5\" valign=\"top\">23.09.2019</td>\n",
       "      <td>19</td>\n",
       "      <td>20951.339</td>\n",
       "      <td>577.81</td>\n",
       "      <td>1362.228</td>\n",
       "      <td>19157.885</td>\n",
       "      <td>80.055</td>\n",
       "      <td>1295.85</td>\n",
       "      <td>148.49</td>\n",
       "      <td>21955.045</td>\n",
       "      <td>435.40</td>\n",
       "      <td>1362.228</td>\n",
       "      <td>19970.545</td>\n",
       "      <td>186.898</td>\n",
       "      <td>1192.12</td>\n",
       "      <td>226.58</td>\n",
       "    </tr>\n",
       "    <tr>\n",
       "      <td>20</td>\n",
       "      <td>20597.423</td>\n",
       "      <td>498.21</td>\n",
       "      <td>1362.228</td>\n",
       "      <td>18748.968</td>\n",
       "      <td>7.079</td>\n",
       "      <td>1200.73</td>\n",
       "      <td>225.35</td>\n",
       "      <td>21676.994</td>\n",
       "      <td>390.28</td>\n",
       "      <td>1362.228</td>\n",
       "      <td>19692.494</td>\n",
       "      <td>186.898</td>\n",
       "      <td>965.35</td>\n",
       "      <td>225.35</td>\n",
       "    </tr>\n",
       "    <tr>\n",
       "      <td>21</td>\n",
       "      <td>20270.274</td>\n",
       "      <td>470.48</td>\n",
       "      <td>1362.228</td>\n",
       "      <td>18420.937</td>\n",
       "      <td>17.477</td>\n",
       "      <td>1174.68</td>\n",
       "      <td>232.62</td>\n",
       "      <td>21304.330</td>\n",
       "      <td>371.34</td>\n",
       "      <td>1362.228</td>\n",
       "      <td>19319.830</td>\n",
       "      <td>186.898</td>\n",
       "      <td>857.25</td>\n",
       "      <td>232.62</td>\n",
       "    </tr>\n",
       "    <tr>\n",
       "      <td>22</td>\n",
       "      <td>20276.768</td>\n",
       "      <td>468.74</td>\n",
       "      <td>1362.228</td>\n",
       "      <td>18431.747</td>\n",
       "      <td>21.967</td>\n",
       "      <td>1106.63</td>\n",
       "      <td>231.61</td>\n",
       "      <td>21334.207</td>\n",
       "      <td>371.34</td>\n",
       "      <td>1362.228</td>\n",
       "      <td>19349.707</td>\n",
       "      <td>186.898</td>\n",
       "      <td>857.97</td>\n",
       "      <td>231.61</td>\n",
       "    </tr>\n",
       "    <tr>\n",
       "      <td>23</td>\n",
       "      <td>20161.030</td>\n",
       "      <td>452.31</td>\n",
       "      <td>1362.228</td>\n",
       "      <td>18311.451</td>\n",
       "      <td>22.222</td>\n",
       "      <td>991.45</td>\n",
       "      <td>238.55</td>\n",
       "      <td>21206.963</td>\n",
       "      <td>363.83</td>\n",
       "      <td>1362.228</td>\n",
       "      <td>19222.463</td>\n",
       "      <td>186.898</td>\n",
       "      <td>821.75</td>\n",
       "      <td>238.55</td>\n",
       "    </tr>\n",
       "  </tbody>\n",
       "</table>\n",
       "<p>107762 rows × 14 columns</p>\n",
       "</div>"
      ],
      "text/plain": [
       "                                 CONSUMER_VOLUME  CONSUMER_PRICE  \\\n",
       "PRICE_ZONE_CODE DAT        HOUR                                    \n",
       "1               01.08.2013 0           68613.793         1061.53   \n",
       "                           1           66010.913         1022.81   \n",
       "                           2           64571.531         1001.07   \n",
       "                           3           64172.949          999.50   \n",
       "                           4           64270.455          986.94   \n",
       "...                                          ...             ...   \n",
       "2               23.09.2019 19          20951.339          577.81   \n",
       "                           20          20597.423          498.21   \n",
       "                           21          20270.274          470.48   \n",
       "                           22          20276.768          468.74   \n",
       "                           23          20161.030          452.31   \n",
       "\n",
       "                                 CONSUMER_RD_VOLUME  CONSUMER_SPOT_VOLUME  \\\n",
       "PRICE_ZONE_CODE DAT        HOUR                                             \n",
       "1               01.08.2013 0               9552.214             57423.597   \n",
       "                           1               9552.214             54759.100   \n",
       "                           2               9552.214             53286.262   \n",
       "                           3               9552.214             52903.589   \n",
       "                           4               9552.214             53006.707   \n",
       "...                                             ...                   ...   \n",
       "2               23.09.2019 19              1362.228             19157.885   \n",
       "                           20              1362.228             18748.968   \n",
       "                           21              1362.228             18420.937   \n",
       "                           22              1362.228             18431.747   \n",
       "                           23              1362.228             18311.451   \n",
       "\n",
       "                                 CONSUMER_PROVIDE_RD  CONSUMER_MAX_PRICE  \\\n",
       "PRICE_ZONE_CODE DAT        HOUR                                            \n",
       "1               01.08.2013 0                  27.266             1223.91   \n",
       "                           1                  39.652             1170.93   \n",
       "                           2                  54.665             1171.44   \n",
       "                           3                  64.554             1186.59   \n",
       "                           4                  83.432             1169.99   \n",
       "...                                              ...                 ...   \n",
       "2               23.09.2019 19                 80.055             1295.85   \n",
       "                           20                  7.079             1200.73   \n",
       "                           21                 17.477             1174.68   \n",
       "                           22                 21.967             1106.63   \n",
       "                           23                 22.222              991.45   \n",
       "\n",
       "                                 CONSUMER_MIN_PRICE  SUPPLIER_VOLUME  \\\n",
       "PRICE_ZONE_CODE DAT        HOUR                                        \n",
       "1               01.08.2013 0                 707.91        70977.393   \n",
       "                           1                 702.82        68312.485   \n",
       "                           2                 701.41        66821.170   \n",
       "                           3                 697.36        66427.486   \n",
       "                           4                 688.45        66498.112   \n",
       "...                                             ...              ...   \n",
       "2               23.09.2019 19                148.49        21955.045   \n",
       "                           20                225.35        21676.994   \n",
       "                           21                232.62        21304.330   \n",
       "                           22                231.61        21334.207   \n",
       "                           23                238.55        21206.963   \n",
       "\n",
       "                                 SUPPLIER_PRICE  SUPPLIER_RD_VOLUME  \\\n",
       "PRICE_ZONE_CODE DAT        HOUR                                       \n",
       "1               01.08.2013 0            1018.87            9838.785   \n",
       "                           1             982.87            9838.785   \n",
       "                           2             962.80            9838.785   \n",
       "                           3             960.74            9838.785   \n",
       "                           4             949.41            9838.785   \n",
       "...                                         ...                 ...   \n",
       "2               23.09.2019 19            435.40            1362.228   \n",
       "                           20            390.28            1362.228   \n",
       "                           21            371.34            1362.228   \n",
       "                           22            371.34            1362.228   \n",
       "                           23            363.83            1362.228   \n",
       "\n",
       "                                 SUPPLIER_SPOT_VOLUME  SUPPLIER_PROVIDE_RD  \\\n",
       "PRICE_ZONE_CODE DAT        HOUR                                              \n",
       "1               01.08.2013 0                58155.791              510.003   \n",
       "                           1                55484.574              503.694   \n",
       "                           2                53977.449              484.204   \n",
       "                           3                53587.255              483.694   \n",
       "                           4                53664.967              483.720   \n",
       "...                                               ...                  ...   \n",
       "2               23.09.2019 19               19970.545              186.898   \n",
       "                           20               19692.494              186.898   \n",
       "                           21               19319.830              186.898   \n",
       "                           22               19349.707              186.898   \n",
       "                           23               19222.463              186.898   \n",
       "\n",
       "                                 SUPPLIER_MAX_PRICE  SUPPLIER_MIN_PRICE  \n",
       "PRICE_ZONE_CODE DAT        HOUR                                          \n",
       "1               01.08.2013 0                1216.06              707.91  \n",
       "                           1                1153.73              702.83  \n",
       "                           2                1127.97              701.43  \n",
       "                           3                1122.88              697.36  \n",
       "                           4                1105.61              688.45  \n",
       "...                                             ...                 ...  \n",
       "2               23.09.2019 19               1192.12              226.58  \n",
       "                           20                965.35              225.35  \n",
       "                           21                857.25              232.62  \n",
       "                           22                857.97              231.61  \n",
       "                           23                821.75              238.55  \n",
       "\n",
       "[107762 rows x 14 columns]"
      ]
     },
     "execution_count": 313,
     "metadata": {},
     "output_type": "execute_result"
    }
   ],
   "source": [
    "pd.read_csv(file_path, index_col=['PRICE_ZONE_CODE', 'DAT', 'HOUR']).drop('Unnamed: 0', axis=1)"
   ]
  },
  {
   "cell_type": "code",
   "execution_count": 440,
   "metadata": {
    "ExecuteTime": {
     "end_time": "2019-09-22T23:36:50.086376Z",
     "start_time": "2019-09-22T23:36:49.916795Z"
    }
   },
   "outputs": [],
   "source": [
    "all_rsv_df_2 = pd.read_csv(file_path).drop('Unnamed: 0', axis=1)"
   ]
  },
  {
   "cell_type": "code",
   "execution_count": 442,
   "metadata": {
    "ExecuteTime": {
     "end_time": "2019-09-22T23:36:58.586416Z",
     "start_time": "2019-09-22T23:36:58.584075Z"
    }
   },
   "outputs": [],
   "source": [
    "# all_rsv_df_2"
   ]
  },
  {
   "cell_type": "code",
   "execution_count": 445,
   "metadata": {
    "ExecuteTime": {
     "end_time": "2019-09-22T23:37:36.491731Z",
     "start_time": "2019-09-22T23:37:36.469072Z"
    }
   },
   "outputs": [],
   "source": [
    "all_rsv_df_2 = all_rsv_df_2[~(all_rsv_df_2['HOUR'] == 24)] #перевод времени 2014-10-26 ))))"
   ]
  },
  {
   "cell_type": "code",
   "execution_count": 459,
   "metadata": {
    "ExecuteTime": {
     "end_time": "2019-09-22T23:43:47.356491Z",
     "start_time": "2019-09-22T23:43:46.545768Z"
    }
   },
   "outputs": [
    {
     "name": "stderr",
     "output_type": "stream",
     "text": [
      "/home/xenakas/anaconda3/envs/geoplots3.6/lib/python3.6/site-packages/ipykernel_launcher.py:1: SettingWithCopyWarning: \n",
      "A value is trying to be set on a copy of a slice from a DataFrame.\n",
      "Try using .loc[row_indexer,col_indexer] = value instead\n",
      "\n",
      "See the caveats in the documentation: http://pandas.pydata.org/pandas-docs/stable/user_guide/indexing.html#returning-a-view-versus-a-copy\n",
      "  \"\"\"Entry point for launching an IPython kernel.\n"
     ]
    }
   ],
   "source": [
    "all_rsv_df_2['DATHOUR'] = [datetime.datetime.strptime(i, '%d.%m.%Y').replace(hour=j) for i,j in zip(all_rsv_df_2['DAT'], all_rsv_df_2['HOUR'])]"
   ]
  },
  {
   "cell_type": "code",
   "execution_count": 463,
   "metadata": {
    "ExecuteTime": {
     "end_time": "2019-09-22T23:45:10.032181Z",
     "start_time": "2019-09-22T23:45:09.945423Z"
    }
   },
   "outputs": [],
   "source": [
    "all_rsv_df_2 = all_rsv_df_2.set_index(['DATHOUR','PRICE_ZONE_CODE']).unstack()"
   ]
  },
  {
   "cell_type": "code",
   "execution_count": 452,
   "metadata": {
    "ExecuteTime": {
     "end_time": "2019-09-22T23:39:23.517960Z",
     "start_time": "2019-09-22T23:39:23.515012Z"
    }
   },
   "outputs": [
    {
     "data": {
      "text/plain": [
       "'23.09.2019'"
      ]
     },
     "execution_count": 452,
     "metadata": {},
     "output_type": "execute_result"
    }
   ],
   "source": [
    "all_rsv_df_2['DAT'][107761]"
   ]
  },
  {
   "cell_type": "code",
   "execution_count": 457,
   "metadata": {
    "ExecuteTime": {
     "end_time": "2019-09-22T23:42:19.462308Z",
     "start_time": "2019-09-22T23:42:19.456587Z"
    }
   },
   "outputs": [
    {
     "name": "stdout",
     "output_type": "stream",
     "text": [
      "2019-09-23 03:00:00\n"
     ]
    }
   ],
   "source": [
    "datetime.datetime.strptime(all_rsv_df_2['DAT'][107761], '%d.%m.%Y').replace(hour=3)"
   ]
  },
  {
   "cell_type": "code",
   "execution_count": 422,
   "metadata": {
    "ExecuteTime": {
     "end_time": "2019-09-22T23:27:44.519010Z",
     "start_time": "2019-09-22T23:27:44.513032Z"
    }
   },
   "outputs": [
    {
     "data": {
      "text/plain": [
       "[Timestamp('2019-09-23 14:00:00'),\n",
       " Timestamp('2019-09-23 15:00:00'),\n",
       " Timestamp('2019-09-23 16:00:00'),\n",
       " Timestamp('2019-09-23 17:00:00'),\n",
       " Timestamp('2019-09-23 18:00:00'),\n",
       " Timestamp('2019-09-23 19:00:00'),\n",
       " Timestamp('2019-09-23 20:00:00'),\n",
       " Timestamp('2019-09-23 21:00:00'),\n",
       " Timestamp('2019-09-23 22:00:00'),\n",
       " Timestamp('2019-09-23 23:00:00')]"
      ]
     },
     "execution_count": 422,
     "metadata": {},
     "output_type": "execute_result"
    }
   ],
   "source": [
    "# ind_dh[-10:]"
   ]
  },
  {
   "cell_type": "code",
   "execution_count": 419,
   "metadata": {
    "ExecuteTime": {
     "end_time": "2019-09-22T23:27:20.114832Z",
     "start_time": "2019-09-22T23:27:20.106015Z"
    }
   },
   "outputs": [
    {
     "data": {
      "text/plain": [
       "DatetimeIndex(['2013-01-08', '2013-01-08', '2013-01-08', '2013-01-08',\n",
       "               '2013-01-08', '2013-01-08', '2013-01-08', '2013-01-08',\n",
       "               '2013-01-08', '2013-01-08',\n",
       "               ...\n",
       "               '2019-09-23', '2019-09-23', '2019-09-23', '2019-09-23',\n",
       "               '2019-09-23', '2019-09-23', '2019-09-23', '2019-09-23',\n",
       "               '2019-09-23', '2019-09-23'],\n",
       "              dtype='datetime64[ns]', name='DAT', length=107760, freq=None)"
      ]
     },
     "execution_count": 419,
     "metadata": {},
     "output_type": "execute_result"
    }
   ],
   "source": [
    "# all_rsv_df_2.index.get_level_values(1)"
   ]
  },
  {
   "cell_type": "code",
   "execution_count": 423,
   "metadata": {
    "ExecuteTime": {
     "end_time": "2019-09-22T23:28:25.882238Z",
     "start_time": "2019-09-22T23:28:25.767848Z"
    }
   },
   "outputs": [],
   "source": [
    "all_rsv_df_2 = all_rsv_df_2.set_index([all_rsv_df_2.index.get_level_values(0), ind_dh])"
   ]
  },
  {
   "cell_type": "code",
   "execution_count": 425,
   "metadata": {
    "ExecuteTime": {
     "end_time": "2019-09-22T23:28:39.646453Z",
     "start_time": "2019-09-22T23:28:39.624918Z"
    }
   },
   "outputs": [],
   "source": [
    "all_rsv_df_2 = all_rsv_df_2.unstack(0)"
   ]
  },
  {
   "cell_type": "code",
   "execution_count": 469,
   "metadata": {
    "ExecuteTime": {
     "end_time": "2019-09-22T23:49:11.265558Z",
     "start_time": "2019-09-22T23:49:10.044876Z"
    }
   },
   "outputs": [],
   "source": [
    "file_path = '/media/xenakas/ext4_drive/data_rsv/rsv_market/' +  'rsv_market_unstacked_' + '20130801_20190923' + '.csv'\n",
    "\n",
    "all_rsv_df_2.drop(['DAT','HOUR'], axis=1).to_csv(file_path)"
   ]
  },
  {
   "cell_type": "code",
   "execution_count": 464,
   "metadata": {
    "ExecuteTime": {
     "end_time": "2019-09-22T23:45:18.771310Z",
     "start_time": "2019-09-22T23:45:18.063585Z"
    }
   },
   "outputs": [
    {
     "data": {
      "image/png": "[encoded data removed]",
      "text/plain": [
       "<Figure size 432x288 with 1 Axes>"
      ]
     },
     "metadata": {
      "needs_background": "light"
     },
     "output_type": "display_data"
    }
   ],
   "source": [
    "all_rsv_df_2['CONSUMER_PRICE'].plot();"
   ]
  },
  {
   "cell_type": "code",
   "execution_count": 466,
   "metadata": {
    "ExecuteTime": {
     "end_time": "2019-09-22T23:45:33.753179Z",
     "start_time": "2019-09-22T23:45:33.433373Z"
    }
   },
   "outputs": [
    {
     "data": {
      "image/png": "[encoded data removed]",
      "text/plain": [
       "<Figure size 432x288 with 1 Axes>"
      ]
     },
     "metadata": {
      "needs_background": "light"
     },
     "output_type": "display_data"
    }
   ],
   "source": [
    "all_rsv_df_2['CONSUMER_PRICE'][all_rsv_df_2.index.year==2019].plot();"
   ]
  },
  {
   "cell_type": "code",
   "execution_count": 477,
   "metadata": {
    "ExecuteTime": {
     "end_time": "2019-09-23T09:53:26.861484Z",
     "start_time": "2019-09-23T09:53:26.647393Z"
    }
   },
   "outputs": [
    {
     "data": {
      "text/plain": [
       "<matplotlib.axes._subplots.AxesSubplot at 0x7f90e1568fd0>"
      ]
     },
     "execution_count": 477,
     "metadata": {},
     "output_type": "execute_result"
    },
    {
     "data": {
      "image/png": "[encoded data removed]",
      "text/plain": [
       "<Figure size 432x288 with 1 Axes>"
      ]
     },
     "metadata": {
      "needs_background": "light"
     },
     "output_type": "display_data"
    }
   ],
   "source": [
    "all_rsv_df_2['06/2018']['CONSUMER_PRICE'].plot()"
   ]
  },
  {
   "cell_type": "code",
   "execution_count": 476,
   "metadata": {
    "ExecuteTime": {
     "end_time": "2019-09-23T09:53:09.714299Z",
     "start_time": "2019-09-23T09:53:09.489283Z"
    }
   },
   "outputs": [
    {
     "data": {
      "text/plain": [
       "<matplotlib.axes._subplots.AxesSubplot at 0x7f90e13a05c0>"
      ]
     },
     "execution_count": 476,
     "metadata": {},
     "output_type": "execute_result"
    },
    {
     "data": {
      "image/png": "[encoded data removed]",
      "text/plain": [
       "<Figure size 432x288 with 1 Axes>"
      ]
     },
     "metadata": {
      "needs_background": "light"
     },
     "output_type": "display_data"
    }
   ],
   "source": [
    "all_rsv_df_2['09/2019']['CONSUMER_PRICE'].plot()"
   ]
  },
  {
   "cell_type": "code",
   "execution_count": null,
   "metadata": {},
   "outputs": [],
   "source": []
  }
 ],
 "metadata": {
  "hide_input": false,
  "kernelspec": {
   "display_name": "Python 3.6 (for geoplots)",
   "language": "python",
   "name": "geoplots3.6"
  },
  "language_info": {
   "codemirror_mode": {
    "name": "ipython",
    "version": 3
   },
   "file_extension": ".py",
   "mimetype": "text/x-python",
   "name": "python",
   "nbconvert_exporter": "python",
   "pygments_lexer": "ipython3",
   "version": "3.6.7"
  },
  "latex_envs": {
   "LaTeX_envs_menu_present": true,
   "autoclose": true,
   "autocomplete": true,
   "bibliofile": "biblio.bib",
   "cite_by": "apalike",
   "current_citInitial": 1,
   "eqLabelWithNumbers": true,
   "eqNumInitial": 1,
   "hotkeys": {
    "equation": "Ctrl-E",
    "itemize": "Ctrl-I"
   },
   "labels_anchors": false,
   "latex_user_defs": false,
   "report_style_numbering": false,
   "user_envs_cfg": false
  },
  "toc": {
   "base_numbering": 1,
   "nav_menu": {},
   "number_sections": true,
   "sideBar": true,
   "skip_h1_title": false,
   "title_cell": "Table of Contents",
   "title_sidebar": "Contents",
   "toc_cell": false,
   "toc_position": {},
   "toc_section_display": true,
   "toc_window_display": false
  },
  "varInspector": {
   "cols": {
    "lenName": 16,
    "lenType": 16,
    "lenVar": 40
   },
   "kernels_config": {
    "python": {
     "delete_cmd_postfix": "",
     "delete_cmd_prefix": "del ",
     "library": "var_list.py",
     "varRefreshCmd": "print(var_dic_list())"
    },
    "r": {
     "delete_cmd_postfix": ") ",
     "delete_cmd_prefix": "rm(",
     "library": "var_list.r",
     "varRefreshCmd": "cat(var_dic_list()) "
    }
   },
   "types_to_exclude": [
    "module",
    "function",
    "builtin_function_or_method",
    "instance",
    "_Feature"
   ],
   "window_display": false
  }
 },
 "nbformat": 4,
 "nbformat_minor": 2
}
